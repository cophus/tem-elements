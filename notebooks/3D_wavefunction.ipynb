{
 "cells": [
  {
   "cell_type": "code",
   "execution_count": 2,
   "id": "5c5882de",
   "metadata": {},
   "outputs": [
    {
     "data": {
      "text/html": [
       "<style>.container { width:60% !important; }</style>"
      ],
      "text/plain": [
       "<IPython.core.display.HTML object>"
      ]
     },
     "metadata": {},
     "output_type": "display_data"
    }
   ],
   "source": [
    "from abtem import __version__\n",
    "\n",
    "from abtem import *\n",
    "from abtem.waves import FresnelPropagator, Waves\n",
    "from ase.io import read\n",
    "\n",
    "from abtem.visualize.interactive.artists import ImageArtist, AtomsArtist\n",
    "from abtem.visualize.interactive.tools import SelectPositionTool1d\n",
    "\n",
    "import numpy as np\n",
    "import matplotlib.pyplot as plt\n",
    "from abtem.visualize.interactive.canvas import Canvas\n",
    "\n",
    "from ase import Atoms\n",
    "from tqdm.auto import tqdm\n",
    "import ipywidgets as widgets\n",
    "import matplotlib.pyplot as plt\n",
    "from traitlets import link\n",
    "\n",
    "from ase.spacegroup import crystal\n",
    "\n",
    "from IPython.core.display import display, HTML\n",
    "display(HTML(\"<style>.container { width:60% !important; }</style>\"))"
   ]
  },
  {
   "cell_type": "code",
   "execution_count": 3,
   "id": "33d4a15c",
   "metadata": {},
   "outputs": [],
   "source": [
    "atom_pos = [(0.0, 0.0, 0.0), (0.5, 0.5, 0.5), (0.5, 0.5, 0.0)]\n",
    "atoms = crystal(['Sr','Ti','O'], atom_pos, spacegroup=221, cellpar=3.905, size=(1, 1, 1))\n",
    "\n",
    "atoms *= (1, 1, 5)\n",
    "atoms.center()\n",
    "\n",
    "# fig, (ax1, ax2) = plt.subplots(1, 2, figsize=(12,4))\n",
    "\n",
    "# show_atoms(atoms, ax=ax1, title='Top view')\n",
    "# show_atoms(atoms, ax=ax2, plane='xz', title='Side view')"
   ]
  },
  {
   "cell_type": "code",
   "execution_count": 4,
   "id": "37176ecc",
   "metadata": {},
   "outputs": [],
   "source": [
    "potential = Potential(atoms, sampling=.02, slice_thickness=.2, projection='infinite', parametrization='kirkland')\n",
    "\n",
    "probe = Probe(energy=120e3, semiangle_cutoff=30)\n",
    "probe.match_grid(potential)\n",
    "\n",
    "planewave = PlaneWave(energy=300e3) # uncomment of plane wave\n",
    "planewave.match_grid(potential) # uncomment of plane wave\n",
    "\n",
    "potential = potential.build()"
   ]
  },
  {
   "cell_type": "code",
   "execution_count": 5,
   "id": "023b1357",
   "metadata": {},
   "outputs": [],
   "source": [
    "def calculate_wave3d(wave):\n",
    "    wave3d = Waves(array=np.zeros((len(potential) // save_every,) + wave.gpts, dtype=np.complex64), \n",
    "                   extent=wave.extent, energy=wave.energy)\n",
    "\n",
    "    j = 0\n",
    "    for i, potential_slice in enumerate(potential):\n",
    "\n",
    "        potential_slice.transmit(wave)\n",
    "        propagator.propagate(wave, potential_slice.thickness)\n",
    "\n",
    "        if (i % save_every) == 0:\n",
    "            wave3d.array[j] = wave.array\n",
    "            j += 1\n",
    "    \n",
    "    return wave3d"
   ]
  },
  {
   "cell_type": "code",
   "execution_count": 6,
   "id": "48b5c64f",
   "metadata": {},
   "outputs": [],
   "source": [
    "save_every = 1\n",
    "\n",
    "propagator = FresnelPropagator()\n",
    "\n",
    "probe_position = atoms[2].position[:2] # place probe on atom number 2\n",
    "wave = probe.build(probe_position)\n",
    "probe_on_column_wave3d = calculate_wave3d(wave)\n",
    "\n",
    "probe_position = atoms[2].position[:2] - .3\n",
    "wave = probe.build(probe_position)\n",
    "probe_off_column_wave3d = calculate_wave3d(wave)\n",
    "\n",
    "wave = planewave.build() # uncomment for plane wave\n",
    "plane_wave3d = calculate_wave3d(wave)\n"
   ]
  },
  {
   "cell_type": "code",
   "execution_count": 6,
   "id": "9ea7716b",
   "metadata": {},
   "outputs": [],
   "source": [
    "#wave3d.write('3d_wavefunction.hdf5')"
   ]
  },
  {
   "cell_type": "code",
   "execution_count": 7,
   "id": "69a09433",
   "metadata": {},
   "outputs": [],
   "source": [
    "#wave3d = Waves.read('3d_wavefunction.hdf5')"
   ]
  },
  {
   "cell_type": "code",
   "execution_count": 7,
   "id": "5a9cd454",
   "metadata": {},
   "outputs": [],
   "source": [
    "canvas1 = Canvas()\n",
    "canvas2 = Canvas(width=200, lock_scale=False)\n",
    "\n",
    "xy_artist = ImageArtist()\n",
    "xz_artist = ImageArtist()\n",
    "\n",
    "xy_tool = SelectPositionTool1d(image_artist=xy_artist, marker=True)\n",
    "xz_tool = SelectPositionTool1d(image_artist=xz_artist, marker=True, direction='y')\n",
    "\n",
    "initial_wave_dropdown = widgets.Dropdown(description='Initial wave', options=['Plane', 'Probe (on column)', 'Probe (off column)'], value='Plane')\n",
    "\n",
    "atoms_artist_xy = AtomsArtist(scale_atoms=50)\n",
    "atoms_artist_xy.atoms = atoms\n",
    "\n",
    "atoms_artist_xz = AtomsArtist(scale_atoms=5, direction='xz')\n",
    "atoms_artist_xz.atoms = atoms\n",
    "\n",
    "\n",
    "canvas1.artists = {'image': xy_artist, 'atoms':atoms_artist_xy}\n",
    "canvas2.artists = {'image': xz_artist, 'atoms':atoms_artist_xz}\n",
    "\n",
    "def get_wave3d():\n",
    "    if initial_wave_dropdown.value == 'Plane':\n",
    "        return plane_wave3d\n",
    "    elif initial_wave_dropdown.value == 'Probe (on column)':\n",
    "        return probe_on_column_wave3d\n",
    "    else:\n",
    "        return probe_off_column_wave3d\n",
    "    \n",
    "def update_xy(*args):\n",
    "    wave3d = get_wave3d()\n",
    "    \n",
    "    i = int(np.round(xz_tool.position / potential.thickness * wave3d.array.shape[0]))\n",
    "    i = np.clip(i, 0, wave3d.array.shape[0] - 1)\n",
    "    xy_artist.image = wave3d[i].intensity().array\n",
    "    \n",
    "    xy_artist.extent = [(0,wave3d.extent[0]),(0,wave3d.extent[1])]\n",
    "    xz_artist.extent = [(0,wave3d.extent[0]),(0,potential.thickness)]\n",
    "\n",
    "\n",
    "def update_xz(*args):\n",
    "    wave3d = get_wave3d()\n",
    "    \n",
    "    i = int(np.round(xy_tool.position / potential.extent[-1] * wave3d.array.shape[-1]))\n",
    "    i = np.clip(i, 0, wave3d.array.shape[-1] - 1)\n",
    "    xz_artist.image = np.abs(wave3d.array[:, :, i]).T ** 2\n",
    "    \n",
    "    xy_artist.extent = [(0,wave3d.extent[0]),(0,wave3d.extent[1])]\n",
    "    xz_artist.extent = [(0,wave3d.extent[0]),(0,potential.thickness)]\n",
    "\n",
    "xy_artist.extent = [(0,1),(0,1)]\n",
    "xz_artist.extent = [(0,1),(0,1)]\n",
    "\n",
    "    \n",
    "\n",
    "update_xy()\n",
    "update_xz()\n",
    "\n",
    "canvas2.y_scale.reverse =True\n",
    "\n",
    "xy_tool.activate(canvas1)\n",
    "xz_tool.activate(canvas2)\n",
    "\n",
    "xz_tool.observe(update_xy, 'position')\n",
    "xy_tool.observe(update_xz, 'position')\n",
    "\n",
    "canvas1.adjust_limits_to_artists()\n",
    "canvas2.adjust_limits_to_artists()\n",
    "\n",
    "xy_tool.position = 3\n",
    "xz_tool.position = 6\n",
    "\n",
    "canvas1.x_label = 'x [Å]'\n",
    "canvas1.y_label = 'y [Å]'\n",
    "\n",
    "canvas2.x_label = 'y [Å]'\n",
    "canvas2.y_label = 'z [Å]'\n",
    "\n",
    "autoadjust_button = widgets.ToggleButton(description='Autoadjust colorscale', value=True)\n",
    "\n",
    "overlay_atoms_button = widgets.ToggleButton(description='Overlay atoms', value=True)\n",
    "\n",
    "link((overlay_atoms_button, 'value'), (atoms_artist_xz._scatter_artist, 'visible'))\n",
    "link((overlay_atoms_button, 'value'), (atoms_artist_xy._scatter_artist, 'visible'))\n",
    "\n",
    "link((autoadjust_button, 'value'), (xy_artist, 'autoadjust_colorscale'))\n",
    "link((autoadjust_button, 'value'), (xz_artist, 'autoadjust_colorscale'))\n",
    "\n",
    "\n",
    "autoadjust_button.observe(update_xy, 'value')\n",
    "autoadjust_button.observe(update_xz, 'value')\n",
    "\n",
    "initial_wave_dropdown.observe(update_xy, 'value')\n",
    "initial_wave_dropdown.observe(update_xz, 'value')\n"
   ]
  },
  {
   "cell_type": "code",
   "execution_count": 8,
   "id": "2615d2bd",
   "metadata": {
    "scrolled": false
   },
   "outputs": [
    {
     "data": {
      "application/vnd.jupyter.widget-view+json": {
       "model_id": "e746edcf49034b32bd378dfd410fa6e4",
       "version_major": 2,
       "version_minor": 0
      },
      "text/plain": [
       "HBox(children=(VBox(children=(HBox(children=(HBox(layout=Layout(width='50px')), HTML(value=\"<p style='font-siz…"
      ]
     },
     "metadata": {},
     "output_type": "display_data"
    }
   ],
   "source": [
    "widgets_box = widgets.VBox([initial_wave_dropdown, widgets.HBox([autoadjust_button, overlay_atoms_button])])\n",
    "\n",
    "widgets.HBox([canvas1.widget, canvas2.widget,\n",
    "widgets_box\n",
    "             \n",
    "             ])"
   ]
  }
 ],
 "metadata": {
  "kernelspec": {
   "display_name": "abTEM_interactive",
   "language": "python",
   "name": "abtem_interactive"
  },
  "language_info": {
   "codemirror_mode": {
    "name": "ipython",
    "version": 3
   },
   "file_extension": ".py",
   "mimetype": "text/x-python",
   "name": "python",
   "nbconvert_exporter": "python",
   "pygments_lexer": "ipython3",
   "version": "3.8.8"
  }
 },
 "nbformat": 4,
 "nbformat_minor": 5
}
