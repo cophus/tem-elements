{
 "cells": [
  {
   "cell_type": "code",
   "execution_count": 1,
   "id": "55f138f7",
   "metadata": {},
   "outputs": [
    {
     "data": {
      "text/html": [
       "<style>.container { width:60% !important; }</style>"
      ],
      "text/plain": [
       "<IPython.core.display.HTML object>"
      ]
     },
     "metadata": {},
     "output_type": "display_data"
    }
   ],
   "source": [
    "import numpy as np\n",
    "import matplotlib.pyplot as plt\n",
    "from abtem import *\n",
    "from abtem.utils import GaussianDistribution\n",
    "from ase.io import read\n",
    "from ase.build import surface, bulk\n",
    "from tqdm.auto import tqdm\n",
    "from ase.build import graphene\n",
    "\n",
    "from tqdm.auto import tqdm\n",
    "from abtem.measure import stack_measurements\n",
    "from abtem.structures import orthogonalize_cell\n",
    "from abtem.measure import center_of_mass\n",
    "from ase.spacegroup import crystal\n",
    "\n",
    "from IPython.core.display import display, HTML\n",
    "display(HTML(\"<style>.container { width:60% !important; }</style>\"))"
   ]
  },
  {
   "cell_type": "code",
   "execution_count": 29,
   "id": "6845143a",
   "metadata": {},
   "outputs": [
    {
     "data": {
      "application/vnd.jupyter.widget-view+json": {
       "model_id": "37c028a3f3ca484aac37f09addf886c8",
       "version_major": 2,
       "version_minor": 0
      },
      "text/plain": [
       "Multislice:   0%|          | 0/8 [00:00<?, ?it/s]"
      ]
     },
     "metadata": {},
     "output_type": "display_data"
    },
    {
     "data": {
      "application/vnd.jupyter.widget-view+json": {
       "model_id": "f14617c26c0442b99ae7ddb1cc17e5b1",
       "version_major": 2,
       "version_minor": 0
      },
      "text/plain": [
       "Defocus:   0%|          | 0/7 [00:00<?, ?it/s]"
      ]
     },
     "metadata": {},
     "output_type": "display_data"
    },
    {
     "data": {
      "text/plain": [
       "'data/graphene_defocus_series.hdf5'"
      ]
     },
     "execution_count": 29,
     "metadata": {},
     "output_type": "execute_result"
    }
   ],
   "source": [
    "atoms = graphene()\n",
    "atoms = orthogonalize_cell(atoms)\n",
    "atoms *= (3,2,1)\n",
    "\n",
    "atoms.center(vacuum=2, axis=2)\n",
    "\n",
    "probe = SMatrix(energy=80e3, semiangle_cutoff=30, device='cpu')\n",
    "potential = Potential(atoms, #FrozenPhonons(atoms, sigmas=.06, num_configs=32), \n",
    "                      sampling=.04, \n",
    "                      projection='infinite',\n",
    "                      parametrization='kirkland')\n",
    "probe.grid.match(potential)\n",
    "\n",
    "S = probe.multislice(potential, pbar=True)\n",
    "S = S.downsample()\n",
    "\n",
    "detector = PixelatedDetector(max_angle=150)\n",
    "\n",
    "distribution = GaussianDistribution(0, 50, 7)\n",
    "scan = GridScan((0, 0), (potential.extent[0] / 3, potential.extent[1] / 2), sampling = probe.ctf.nyquist_sampling * .75)\n",
    "\n",
    "graphene_measurements = []\n",
    "for defocus in tqdm(distribution.samples, desc='Defocus'):\n",
    "    S.ctf.defocus = defocus\n",
    "    graphene_measurements.append(S.scan(scan, detector, pbar=False)) \n",
    "\n",
    "array = np.stack([measurement.array for measurement in graphene_measurements])\n",
    "measurement = Measurement(array, calibrations=(None,) + graphene_measurements[0].calibrations)\n",
    "measurement.write('data/graphene_defocus_series.hdf5')"
   ]
  },
  {
   "cell_type": "code",
   "execution_count": 20,
   "id": "d96154e3",
   "metadata": {},
   "outputs": [
    {
     "data": {
      "text/plain": [
       "(7, 15, 25, 55, 63)"
      ]
     },
     "execution_count": 20,
     "metadata": {},
     "output_type": "execute_result"
    }
   ],
   "source": [
    "measurement.array.shape"
   ]
  },
  {
   "cell_type": "code",
   "execution_count": 37,
   "id": "0f95e896",
   "metadata": {},
   "outputs": [
    {
     "data": {
      "application/vnd.jupyter.widget-view+json": {
       "model_id": "da42448992164576be91fe292dd46a48",
       "version_major": 2,
       "version_minor": 0
      },
      "text/plain": [
       "Multislice:   0%|          | 0/20 [00:00<?, ?it/s]"
      ]
     },
     "metadata": {},
     "output_type": "display_data"
    },
    {
     "data": {
      "application/vnd.jupyter.widget-view+json": {
       "model_id": "c8477f691e264e09836abd3745b14419",
       "version_major": 2,
       "version_minor": 0
      },
      "text/plain": [
       "Defocus:   0%|          | 0/7 [00:00<?, ?it/s]"
      ]
     },
     "metadata": {},
     "output_type": "display_data"
    },
    {
     "data": {
      "text/plain": [
       "'data/srtio3_defocus_series.hdf5'"
      ]
     },
     "execution_count": 37,
     "metadata": {},
     "output_type": "execute_result"
    }
   ],
   "source": [
    "atom_pos = [(0.0, 0.0, 0.0), (0.5, 0.5, 0.5), (0.5, 0.5, 0.0)]\n",
    "atoms = crystal(['Sr','Ti','O'], atom_pos, spacegroup=221, cellpar=3.905, size=(1, 1, 1))\n",
    "\n",
    "atoms *= (2, 2, 10)\n",
    "atoms.center()\n",
    "\n",
    "probe = SMatrix(energy=120e3, semiangle_cutoff=30, device='cpu')\n",
    "potential = Potential(FrozenPhonons(atoms, sigmas=.0, num_configs=16), \n",
    "                      sampling=.04, \n",
    "                      projection='infinite',\n",
    "                      slice_thickness=2,\n",
    "                      parametrization='kirkland')\n",
    "probe.grid.match(potential)\n",
    "\n",
    "S = probe.multislice(potential, pbar=True)\n",
    "S = S.downsample()\n",
    "\n",
    "distribution = GaussianDistribution(0, 50, 7)\n",
    "scan = GridScan((0, 0), (potential.extent[0] / 2, potential.extent[1] / 2), sampling = probe.ctf.nyquist_sampling * .75)\n",
    "\n",
    "detector = PixelatedDetector(max_angle=150)\n",
    "\n",
    "srtio3_measurements = []\n",
    "for defocus in tqdm(distribution.samples, desc='Defocus'):\n",
    "    S.ctf.defocus = defocus\n",
    "    srtio3_measurements.append(S.scan(scan, detector, pbar=False))\n",
    "    \n",
    "array = np.stack([measurement.array for measurement in srtio3_measurements])\n",
    "measurement = Measurement(array, calibrations=(None,) + srtio3_measurements[0].calibrations)\n",
    "measurement.write('data/srtio3_defocus_series.hdf5')"
   ]
  },
  {
   "cell_type": "code",
   "execution_count": 25,
   "id": "a62709fb",
   "metadata": {},
   "outputs": [
    {
     "data": {
      "text/plain": [
       "(7, 13, 13, 71, 71)"
      ]
     },
     "execution_count": 25,
     "metadata": {},
     "output_type": "execute_result"
    }
   ],
   "source": [
    "measurement.array.shape"
   ]
  },
  {
   "cell_type": "code",
   "execution_count": 38,
   "id": "bbe5ce00",
   "metadata": {},
   "outputs": [],
   "source": [
    "graphene_measurement = Measurement.read('data/graphene_defocus_series.hdf5')\n",
    "srtio3_measurement = Measurement.read('data/srtio3_defocus_series.hdf5')\n",
    "distribution = GaussianDistribution(0, 50, 7)\n",
    "samples = distribution.samples"
   ]
  },
  {
   "cell_type": "code",
   "execution_count": 42,
   "id": "6093199d",
   "metadata": {
    "scrolled": false
   },
   "outputs": [
    {
     "data": {
      "application/vnd.jupyter.widget-view+json": {
       "model_id": "d8f5640d30c04ec98a4911869319e6c4",
       "version_major": 2,
       "version_minor": 0
      },
      "text/plain": [
       "HBox(children=(VBox(children=(HBox(children=(HBox(layout=Layout(width='50px')), HTML(value=\"<p style='font-siz…"
      ]
     },
     "metadata": {},
     "output_type": "display_data"
    }
   ],
   "source": [
    "from abtem.visualize.interactive.canvas import Canvas\n",
    "from abtem.visualize.interactive.artists import MeasurementArtist2d\n",
    "from abtem.visualize.interactive.tools import SelectPixelTool\n",
    "from abtem.measure import block_zeroth_order_spot, bandlimit\n",
    "import functools\n",
    "import ipywidgets as widgets\n",
    "from traitlets import link\n",
    "\n",
    "canvas1 = Canvas()\n",
    "canvas2 = Canvas()\n",
    "\n",
    "image_artist1 = MeasurementArtist2d()\n",
    "image_artist2 = MeasurementArtist2d()\n",
    "canvas1.artists = {'image_artist': image_artist1}\n",
    "canvas2.artists = {'image_artist': image_artist2}\n",
    "\n",
    "position_tool = SelectPixelTool(image_artist=image_artist1.image_artist, marker=True)\n",
    "\n",
    "energy_spread_slider = widgets.FloatSlider(description='Energy spread', min=1, max=50, value=30, step=1, continuous_update=False)\n",
    "source_size_slider = widgets.FloatSlider(description='Source size', min=.01, max=.6, value=.3, step=.01, continuous_update=False)\n",
    "power_scale_slider = widgets.FloatSlider(description='Power scale', min=.01, max=1, value=1, step=.01, continuous_update=False)\n",
    "autoadjust_button = widgets.ToggleButton(description='Autoadjust colorscale', value=True)\n",
    "structure_dropdown = widgets.Dropdown(description='Structure', options=['Graphene', 'SrTiO3'], value='Graphene')\n",
    "signal_dropdown = widgets.Dropdown(description='Signal', options=['HAADF', 'BF', 'COM'], value='HAADF')\n",
    "\n",
    "block_direct_button = widgets.ToggleButton(description='Block direct beam')\n",
    "link((autoadjust_button, 'value'), (image_artist1.image_artist, 'autoadjust_colorscale'))\n",
    "\n",
    "@functools.lru_cache(maxsize=1)\n",
    "def new_4d_measurement(structure, energy_spread, source_size):\n",
    "    if structure == 'Graphene':\n",
    "        calibrations = graphene_measurement[0].calibrations\n",
    "        array = graphene_measurement.array\n",
    "    else:\n",
    "        calibrations = srtio3_measurement[0].calibrations\n",
    "        array = srtio3_measurement.array\n",
    "    \n",
    "    values = np.exp(- samples ** 2 / (2 * energy_spread_slider.value ** 2))\n",
    "    values /= values.sum()\n",
    "    measurement = Measurement((array * values[(slice(None),) + (None,)*4]).sum(0), calibrations=calibrations)\n",
    "    return measurement.gaussian_filter((source_size_slider.value,) * 2 + (0.,) * 2)\n",
    "\n",
    "\n",
    "def update_image(*args):\n",
    "    measurement = new_4d_measurement(structure_dropdown.value, energy_spread_slider.value, source_size_slider.value)\n",
    "    \n",
    "    if structure_dropdown.value == 'Graphene':\n",
    "        reps = (3,2)\n",
    "        semiangle_cutoff = 30\n",
    "    else:\n",
    "        reps = (4,4)\n",
    "        semiangle_cutoff = 20\n",
    "    \n",
    "    if signal_dropdown.value == 'HAADF':\n",
    "        integrated_measurement = AnnularDetector(inner=50, outer=150).integrate(measurement)\n",
    "    elif signal_dropdown.value == 'BF':\n",
    "        integrated_measurement = AnnularDetector(inner=0, outer=30).integrate(measurement)\n",
    "    elif signal_dropdown.value == 'COM':\n",
    "        measurement = bandlimit(measurement, cutoff=80)\n",
    "        integrated_measurement = center_of_mass(measurement, return_magnitude=True)\n",
    "\n",
    "    image_artist1.measurement = integrated_measurement.interpolate(.1).tile(reps)\n",
    "    \n",
    "    update_diffraction_pattern()\n",
    "    canvas1.adjust_limits_to_artists()\n",
    "\n",
    "def update_diffraction_pattern(*args):\n",
    "    measurement = new_4d_measurement(structure_dropdown.value, energy_spread_slider.value, source_size_slider.value).copy()\n",
    "    index_x = position_tool.indices[0] % measurement.shape[0]\n",
    "    index_y = position_tool.indices[1] % measurement.shape[1]\n",
    "    \n",
    "    if structure_dropdown.value == 'Graphene':\n",
    "        semiangle_cutoff = 30\n",
    "    else:\n",
    "        semiangle_cutoff = 20\n",
    "    \n",
    "    if block_direct_button.value:\n",
    "        measurement = block_zeroth_order_spot(measurement, semiangle_cutoff)\n",
    "    \n",
    "    index_measurement = measurement[index_x, index_y]\n",
    "    \n",
    "    index_measurement._array = index_measurement._array ** power_scale_slider.value\n",
    "    \n",
    "    image_artist2.measurement = index_measurement\n",
    "    \n",
    "    \n",
    "energy_spread_slider.observe(update_image, 'value')\n",
    "autoadjust_button.observe(update_image, 'value')\n",
    "block_direct_button.observe(update_image, 'value')\n",
    "source_size_slider.observe(update_image, 'value')\n",
    "structure_dropdown.observe(update_image, 'value')\n",
    "signal_dropdown.observe(update_image, 'value')\n",
    "power_scale_slider.observe(update_diffraction_pattern, 'value')\n",
    "\n",
    "position_tool.observe(update_diffraction_pattern, 'indices')\n",
    "position_tool.activate(canvas1)\n",
    "\n",
    "canvas1.title = 'Image'\n",
    "canvas2.title = 'Diffraction pattern'\n",
    "\n",
    "update_image()\n",
    "canvas1.adjust_limits_to_artists()\n",
    "\n",
    "whitespace = widgets.HBox([])\n",
    "whitespace.layout.height = '30px'\n",
    "\n",
    "widgets.HBox([canvas1.widget, canvas2.widget, \n",
    "              widgets.VBox([whitespace, \n",
    "                            structure_dropdown, \n",
    "                            signal_dropdown, \n",
    "                            widgets.HBox([autoadjust_button, block_direct_button]), \n",
    "                            power_scale_slider,\n",
    "                            source_size_slider, \n",
    "                            energy_spread_slider])])"
   ]
  }
 ],
 "metadata": {
  "kernelspec": {
   "display_name": "abTEM_interactive",
   "language": "python",
   "name": "abtem_interactive"
  },
  "language_info": {
   "codemirror_mode": {
    "name": "ipython",
    "version": 3
   },
   "file_extension": ".py",
   "mimetype": "text/x-python",
   "name": "python",
   "nbconvert_exporter": "python",
   "pygments_lexer": "ipython3",
   "version": "3.8.8"
  }
 },
 "nbformat": 4,
 "nbformat_minor": 5
}
