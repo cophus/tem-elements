{
 "cells": [
  {
   "cell_type": "code",
   "execution_count": 1,
   "metadata": {},
   "outputs": [
    {
     "data": {
      "text/html": [
       "<style>.container { width:100% !important; }</style>"
      ],
      "text/plain": [
       "<IPython.core.display.HTML object>"
      ]
     },
     "metadata": {},
     "output_type": "display_data"
    }
   ],
   "source": [
    "from abtem import __version__\n",
    "\n",
    "from abtem import *\n",
    "from abtem.waves import FresnelPropagator, Waves\n",
    "from ase.io import read\n",
    "\n",
    "from abtem.visualize.interactive.artists import ImageArtist, AtomsArtist\n",
    "from abtem.visualize.interactive.tools import SelectPositionTool1d\n",
    "\n",
    "import numpy as np\n",
    "import matplotlib.pyplot as plt\n",
    "from abtem.visualize.interactive.canvas import Canvas\n",
    "\n",
    "from ase import Atoms\n",
    "from tqdm.auto import tqdm\n",
    "import ipywidgets as widgets\n",
    "import matplotlib.pyplot as plt\n",
    "from traitlets import link, HasTraits, Float, Instance, Any, List, observe\n",
    "from abtem.visualize.interactive.utils import Array, link\n",
    "\n",
    "from ase.spacegroup import crystal\n",
    "import time\n",
    "\n",
    "from IPython.core.display import display, HTML\n",
    "display(HTML(\"<style>.container { width:100% !important; }</style>\"))"
   ]
  },
  {
   "cell_type": "code",
   "execution_count": 2,
   "metadata": {},
   "outputs": [],
   "source": [
    "atom_pos = [(0.0, 0.0, 0.0), (0.5, 0.5, 0.5), (0.5, 0.5, 0.0)]\n",
    "atoms = crystal(['Sr','Ti','O'], atom_pos, spacegroup=221, cellpar=3.905, size=(1, 1, 1))\n",
    "\n",
    "atoms *= (1, 1, 2)\n",
    "atoms.center()"
   ]
  },
  {
   "cell_type": "code",
   "execution_count": 23,
   "metadata": {},
   "outputs": [],
   "source": [
    "class SteppedMultislice(HasTraits):\n",
    "    \n",
    "    xy_image = Array()\n",
    "    xz_image = Array()\n",
    "    xy_extent = List()\n",
    "    xz_extent = List()\n",
    "    \n",
    "    xz_limits_x = List()\n",
    "    xz_limits_y = List()\n",
    "    \n",
    "    slice_thickness = Float(.5)\n",
    "    pause_time = 1\n",
    "    initial_wave = Any()\n",
    "    potential = Any()\n",
    "    atoms = Instance(Atoms)\n",
    "    \n",
    "    @observe('atoms', 'slice_thickness')\n",
    "    def _observe_atoms(self, *args):\n",
    "        self.potential = Potential(self.atoms, sampling=.02, slice_thickness=self.slice_thickness, projection='infinite', parametrization='kirkland')\n",
    "    \n",
    "    @observe('potential', 'initial_wave')\n",
    "    def _observe_potential(self, *args):\n",
    "        self.reset()\n",
    "    \n",
    "    def reset(self, *args):\n",
    "        if self.initial_wave is None:\n",
    "            return\n",
    "            \n",
    "        initial_wave = self.initial_wave[0]\n",
    "        initial_wave_kwargs = self.initial_wave[1]\n",
    "        initial_wave.match_grid(self.potential)\n",
    "        \n",
    "        initial_wave = np.squeeze(initial_wave.build(**initial_wave_kwargs).intensity().array)\n",
    "        \n",
    "        self.xy_image = initial_wave\n",
    "        self.xz_image = initial_wave.sum(axis=1, keepdims=True)\n",
    "        self.xy_extent = [(0,self.potential.extent[0]), (0,self.potential.extent[1])]\n",
    "        self.xz_limits_x = (0,self.potential.extent[0])\n",
    "        self.xz_limits_y = (- self.potential.slice_thickness ,self.potential.thickness)\n",
    "        self.xz_extent = [(0, self.potential.extent[0]), (-self.potential.slice_thickness,0)]\n",
    "        \n",
    "    def run(self, *args):\n",
    "        self.reset()\n",
    "        \n",
    "        potential = self.potential.build()\n",
    "        propagator = FresnelPropagator()\n",
    "        \n",
    "        wave = self.initial_wave[0].build(**self.initial_wave[1])\n",
    "        thickness = 0 #self.potential.slice_thickness\n",
    "        \n",
    "        for i, potential_slice in enumerate(potential):\n",
    "            time.sleep(self.pause_time)\n",
    "            potential_slice.transmit(wave)\n",
    "            propagator.propagate(wave, potential_slice.thickness)\n",
    "            xy_image = wave.intensity().array[0]\n",
    "            \n",
    "            self.xy_image = xy_image\n",
    "            \n",
    "            xz_image = self.xz_image.copy()\n",
    "            xz_image = np.concatenate((xz_image, xy_image.sum(axis=1, keepdims=True)), axis=1)\n",
    "            \n",
    "            self.xz_image = xz_image\n",
    "            \n",
    "            thickness += potential_slice.thickness\n",
    "            \n",
    "            self.xz_extent = [(0,wave.extent[0]), (-self.potential.slice_thickness, thickness)]"
   ]
  },
  {
   "cell_type": "code",
   "execution_count": 24,
   "metadata": {},
   "outputs": [
    {
     "data": {
      "application/vnd.jupyter.widget-view+json": {
       "model_id": "aa947c6b7a894692b106f0fbebe5b4b7",
       "version_major": 2,
       "version_minor": 0
      },
      "text/plain": [
       "HBox(children=(Canvas(children=(VBox(children=(HBox(children=(HBox(layout=Layout(width='50px')), HTML(value=\"<…"
      ]
     },
     "metadata": {},
     "output_type": "display_data"
    }
   ],
   "source": [
    "stepped_multislice = SteppedMultislice(xy_image = np.zeros((1,1)), xz_image = np.zeros((1,1)))\n",
    "stepped_multislice.atoms = atoms\n",
    "stepped_multislice.initial_wave = (PlaneWave(energy=300e3), {})\n",
    "\n",
    "canvas1 = Canvas()\n",
    "canvas2 = Canvas(width=200, lock_scale=False)\n",
    "\n",
    "canvas1.x_label = 'x [Å]'\n",
    "canvas1.y_label = 'y [Å]'\n",
    "\n",
    "canvas2.x_label = 'y [Å]'\n",
    "canvas2.y_label = 'z [Å]'\n",
    "\n",
    "xy_artist = ImageArtist()\n",
    "xz_artist = ImageArtist(center_pixels=False)\n",
    "\n",
    "canvas1.artists = {'image': xy_artist}\n",
    "canvas2.artists = {'image': xz_artist}\n",
    "canvas2.y_scale.reverse = True\n",
    "\n",
    "link((stepped_multislice, 'xy_image'), (xy_artist, 'image'), check_broken=False)\n",
    "link((stepped_multislice, 'xy_extent'), (xy_artist, 'extent'), check_broken=False)\n",
    "link((stepped_multislice, 'xz_image'), (xz_artist, 'image'), check_broken=False)\n",
    "link((stepped_multislice, 'xz_limits_x'), (canvas2, 'x_limits'), check_broken=False)\n",
    "link((stepped_multislice, 'xz_limits_y'), (canvas2, 'y_limits'), check_broken=False)\n",
    "link((stepped_multislice, 'xz_extent'), (xz_artist, 'extent'), check_broken=False)\n",
    "\n",
    "initial_wave_dropdown = widgets.Dropdown(description='Initial wave', options=['Plane wave', 'Probe'])\n",
    "\n",
    "def set_initial_wave(*args):\n",
    "    if initial_wave_dropdown.value == 'Plane wave':\n",
    "        stepped_multislice.initial_wave = (PlaneWave(energy=300e3), {})\n",
    "    else:\n",
    "        stepped_multislice.initial_wave = (Probe(energy=120e3, semiangle_cutoff=30), {'positions':(3,3)})\n",
    "\n",
    "initial_wave_dropdown.observe(set_initial_wave, 'value')\n",
    "\n",
    "slice_thickness_slider = widgets.FloatSlider(description='Slice thickness', min=0.1, max=3., value=1.)\n",
    "link((slice_thickness_slider, 'value'), (stepped_multislice, 'slice_thickness'), check_broken=False)\n",
    "\n",
    "run_button = widgets.Button(description='Run multislice')\n",
    "run_button.on_click(stepped_multislice.run)\n",
    "\n",
    "widgets.HBox([canvas1, canvas2, widgets.VBox([initial_wave_dropdown, slice_thickness_slider, run_button])])"
   ]
  },
  {
   "cell_type": "code",
   "execution_count": 20,
   "metadata": {},
   "outputs": [
    {
     "data": {
      "text/plain": [
       "[(-1.0, 3.905), (0.0, 0)]"
      ]
     },
     "execution_count": 20,
     "metadata": {},
     "output_type": "execute_result"
    }
   ],
   "source": [
    "stepped_multislice.xz_extent"
   ]
  }
 ],
 "metadata": {
  "kernelspec": {
   "display_name": "abtem",
   "language": "python",
   "name": "abtem"
  },
  "language_info": {
   "codemirror_mode": {
    "name": "ipython",
    "version": 3
   },
   "file_extension": ".py",
   "mimetype": "text/x-python",
   "name": "python",
   "nbconvert_exporter": "python",
   "pygments_lexer": "ipython3",
   "version": "3.7.9"
  }
 },
 "nbformat": 4,
 "nbformat_minor": 5
}
