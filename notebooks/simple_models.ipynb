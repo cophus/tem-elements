{
 "cells": [
  {
   "cell_type": "markdown",
   "metadata": {},
   "source": [
    "# Atomic models with ASE"
   ]
  },
  {
   "cell_type": "markdown",
   "metadata": {},
   "source": [
    "abTEM uses the Atomic Simulation Environment ([ASE](https://wiki.fysik.dtu.dk/ase/)) for creating model structures. ASE is a set of tools and Python modules for setting up, manipulating, visualizing and analyzing atomistic simulations. It is also used in conjunction with other simulation codes such as GPAW for running DFT simulations. \n",
    "\n",
    "Here we will introduce the features of ASE needed for image simulations; please refer to the ASE documentation for a general introduction, especialy its [Building things](https://wiki.fysik.dtu.dk/ase/ase/build/build.html) page."
   ]
  },
  {
   "cell_type": "markdown",
   "metadata": {},
   "source": [
    "## Atoms\n",
    "The `Atoms` object defines a collection of atoms. Here is how to set up an $\\mathrm{N}_2$ molecule by directly specifying the position of the two nitrogen atoms (in units of Ångstrom):"
   ]
  },
  {
   "cell_type": "code",
   "execution_count": 42,
   "metadata": {},
   "outputs": [],
   "source": [
    "from ase import Atoms\n",
    "n2 = Atoms('2N', positions=[(0., 0., 0.), (0., 0., 1.10)], cell=[2, 2, 2])"
   ]
  },
  {
   "cell_type": "markdown",
   "metadata": {},
   "source": [
    "abTEM uses just the positional coordinates, atomic numbers, and the unit cell properties for creating electrostatic potentials."
   ]
  },
  {
   "cell_type": "code",
   "execution_count": 43,
   "metadata": {},
   "outputs": [
    {
     "data": {
      "text/plain": [
       "array([[0. , 0. , 0. ],\n",
       "       [0. , 0. , 1.1]])"
      ]
     },
     "execution_count": 43,
     "metadata": {},
     "output_type": "execute_result"
    }
   ],
   "source": [
    "n2.positions"
   ]
  },
  {
   "cell_type": "code",
   "execution_count": 44,
   "metadata": {},
   "outputs": [
    {
     "data": {
      "text/plain": [
       "array([7, 7])"
      ]
     },
     "execution_count": 44,
     "metadata": {},
     "output_type": "execute_result"
    }
   ],
   "source": [
    "n2.numbers"
   ]
  },
  {
   "cell_type": "code",
   "execution_count": 45,
   "metadata": {},
   "outputs": [
    {
     "data": {
      "text/plain": [
       "Cell([2.0, 2.0, 2.0])"
      ]
     },
     "execution_count": 45,
     "metadata": {},
     "output_type": "execute_result"
    }
   ],
   "source": [
    "n2.cell"
   ]
  },
  {
   "cell_type": "markdown",
   "metadata": {},
   "source": [
    "## Visualize"
   ]
  },
  {
   "cell_type": "markdown",
   "metadata": {},
   "source": [
    "The atomic structure can be visualized inline in a Jupyter Notebook using the `show_atoms` function. This function shows a 2D projection of the structure perpendicular to the specified plane. For example:"
   ]
  },
  {
   "cell_type": "code",
   "execution_count": 46,
   "metadata": {},
   "outputs": [
    {
     "data": {
      "image/png": "[encoded data removed]",
      "text/plain": [
       "<Figure size 432x288 with 1 Axes>"
      ]
     },
     "metadata": {
      "needs_background": "light"
     },
     "output_type": "display_data"
    }
   ],
   "source": [
    "from abtem.visualize import show_atoms\n",
    "\n",
    "show_atoms(n2, plane='yz');"
   ]
  },
  {
   "cell_type": "markdown",
   "metadata": {},
   "source": [
    "## Molecules"
   ]
  },
  {
   "cell_type": "markdown",
   "metadata": {},
   "source": [
    "More complicated molecules can also be built directly using the `molecule` object, and centered in the cell using the `center` method, with the amount of vacuum in Å given as parameter."
   ]
  },
  {
   "cell_type": "code",
   "execution_count": 47,
   "metadata": {},
   "outputs": [
    {
     "data": {
      "image/png": "[encoded data removed]",
      "text/plain": [
       "<Figure size 432x288 with 1 Axes>"
      ]
     },
     "metadata": {
      "needs_background": "light"
     },
     "output_type": "display_data"
    }
   ],
   "source": [
    "from ase.build import molecule\n",
    "h2o = molecule('H2O')\n",
    "\n",
    "h2o.center(2)\n",
    "\n",
    "show_atoms(h2o, plane='yz');"
   ]
  },
  {
   "cell_type": "markdown",
   "metadata": {},
   "source": [
    "Many more molecules are available via [ASE collections](https://wiki.fysik.dtu.dk/ase/ase/collections.html?highlight=collections)."
   ]
  },
  {
   "cell_type": "markdown",
   "metadata": {},
   "source": [
    "## Combining atoms objects\n",
    "\n",
    "It is trivially easy to combine atoms objects, though there is no guarantee the resulting structure is physically meaningful."
   ]
  },
  {
   "cell_type": "code",
   "execution_count": 48,
   "metadata": {},
   "outputs": [
    {
     "data": {
      "image/png": "[encoded data removed]",
      "text/plain": [
       "<Figure size 432x288 with 1 Axes>"
      ]
     },
     "metadata": {
      "needs_background": "light"
     },
     "output_type": "display_data"
    }
   ],
   "source": [
    "comb = h2o + n2\n",
    "\n",
    "show_atoms(comb, plane='yz');"
   ]
  },
  {
   "cell_type": "markdown",
   "metadata": {},
   "source": [
    "## Interactive visualization of vacuum size"
   ]
  },
  {
   "cell_type": "code",
   "execution_count": 49,
   "metadata": {
    "scrolled": false
   },
   "outputs": [
    {
     "data": {
      "application/vnd.jupyter.widget-view+json": {
       "model_id": "81b9edc1dde34dc1a7f2eaeb7c4c5472",
       "version_major": 2,
       "version_minor": 0
      },
      "text/plain": [
       "VBox(children=(HBox(children=(VBox(children=(HBox(children=(HBox(layout=Layout(width='50px')), HTML(value=\"<p …"
      ]
     },
     "metadata": {},
     "output_type": "display_data"
    }
   ],
   "source": [
    "# Interactive widgets.\n",
    "import ipywidgets as widgets\n",
    "import numpy as np\n",
    " \n",
    "# Custom abTEM code to enable interactivity.\n",
    "from abtem.visualize.interactive.artists import AtomsArtist\n",
    "from abtem.visualize.interactive.canvas import Canvas\n",
    " \n",
    "from ase.build import molecule\n",
    "h2o = molecule('H2O')\n",
    "h2o.rotate(90,'y')\n",
    " \n",
    "# Canvases are layout areas where things are plotted.\n",
    "canvas = Canvas(height=400, width=400)\n",
    " \n",
    "# Artists do the plotting.\n",
    "scale = 1400\n",
    "artist = AtomsArtist(atoms=h2o, scale=scale)\n",
    "canvas.artists = {'atoms': artist}\n",
    " \n",
    "# Defines an interactive slider for the vacuum size.\n",
    "slider = widgets.IntSlider(description='Vacuum (Å)', min=3, max=16, value=1, step=1)\n",
    " \n",
    "def slider_change(*args):\n",
    "    new_h2o = h2o.copy()\n",
    "    new_h2o.center(slider.value)\n",
    "   \n",
    "    with canvas.hold_trait_notifications(): # update traits simultaneously\n",
    "        canvas.x_limits = [-.1 * new_h2o.cell[0,0], new_h2o.cell[0,0] + .1 * new_h2o.cell[0,0]]\n",
    "        canvas.y_limits = [-.1 * new_h2o.cell[1,1], new_h2o.cell[1,1] + .1 * new_h2o.cell[1,1]]\n",
    "        area = ((canvas.y_limits[1]- canvas.y_limits[0]) * (canvas.x_limits[1]- canvas.x_limits[0]))\n",
    "        artist.scale = scale / area **.8\n",
    "        artist.atoms = new_h2o\n",
    "   \n",
    "slider.observe(slider_change, 'value')\n",
    "slider_change()\n",
    "\n",
    "canvas.x_label = 'x [Å]'\n",
    "canvas.y_label = 'y [Å]'\n",
    "canvas.title = 'H2O molecule in a vacuum box'\n",
    "\n",
    "slider.layout = {'width': '400px'}\n",
    "\n",
    "widgets.VBox([widgets.HBox([canvas.widget]), slider])"
   ]
  },
  {
   "cell_type": "markdown",
   "metadata": {},
   "source": [
    "## Importing structure files\n",
    "\n",
    "ASE can import all the common atomic structure formats, see a full list [here](https://wiki.fysik.dtu.dk/ase/ase/io/io.html). Below we import an example `.cif`-file defining a unit cell of strontium titanate (SrTiO<sub>3</sub>)."
   ]
  },
  {
   "cell_type": "code",
   "execution_count": 50,
   "metadata": {},
   "outputs": [
    {
     "data": {
      "image/png": "[encoded data removed]",
      "text/plain": [
       "<Figure size 432x288 with 1 Axes>"
      ]
     },
     "metadata": {
      "needs_background": "light"
     },
     "output_type": "display_data"
    }
   ],
   "source": [
    "from ase.io import read\n",
    "srtio3 = read('data/srtio3_100.cif')\n",
    "show_atoms(srtio3, plane='xy');"
   ]
  },
  {
   "cell_type": "markdown",
   "metadata": {},
   "source": [
    "## Manipulating structures"
   ]
  },
  {
   "cell_type": "markdown",
   "metadata": {},
   "source": [
    "abTEM always assumes that the imaging electrons propagate along the $z$-axis in the direction from negative to positive coordinate values. Hence, to choose the imaging zone axis, we need to manipulate the atoms so they are properly aligned.\n",
    "\n",
    "ASE has a range of tools for manipulating imported structures, for example, the `surface` function, which is used for creating a periodic surface (aligned with the $z$-axis) with a given set of Miller indices."
   ]
  },
  {
   "cell_type": "code",
   "execution_count": 51,
   "metadata": {},
   "outputs": [
    {
     "data": {
      "image/png": "[encoded data removed]",
      "text/plain": [
       "<Figure size 432x288 with 1 Axes>"
      ]
     },
     "metadata": {
      "needs_background": "light"
     },
     "output_type": "display_data"
    }
   ],
   "source": [
    "from ase.build import surface\n",
    "\n",
    "srtio3_110 = surface(srtio3, indices=(1, 1, 0), layers=4, periodic=True)\n",
    "\n",
    "show_atoms(srtio3_110, plane='xz');"
   ]
  },
  {
   "cell_type": "code",
   "execution_count": 52,
   "metadata": {},
   "outputs": [
    {
     "data": {
      "text/plain": [
       "Cell([5.522503961066936, 3.905, 11.04500792213387])"
      ]
     },
     "execution_count": 52,
     "metadata": {},
     "output_type": "execute_result"
    }
   ],
   "source": [
    "srtio3_110.cell"
   ]
  },
  {
   "cell_type": "markdown",
   "metadata": {},
   "source": [
    "Simulations may require a larger crystal, to repeat the atoms by two in the $x$- and by three in the $y$-direction (but not in the $z$-direction) we can write:"
   ]
  },
  {
   "cell_type": "code",
   "execution_count": 53,
   "metadata": {},
   "outputs": [],
   "source": [
    "srtio3_110 *= (2, 3, 1)"
   ]
  },
  {
   "cell_type": "markdown",
   "metadata": {},
   "source": [
    "Next, we center the atoms in the cell and add 3 Å of vacuum at the entrance and exit surfaces along the $z$-axis. Note that we visualize the structure now from the side, both along the $y$ and $x$ axes."
   ]
  },
  {
   "cell_type": "code",
   "execution_count": 54,
   "metadata": {},
   "outputs": [
    {
     "data": {
      "image/png": "[encoded data removed]",
      "text/plain": [
       "<Figure size 720x288 with 2 Axes>"
      ]
     },
     "metadata": {
      "needs_background": "light"
     },
     "output_type": "display_data"
    }
   ],
   "source": [
    "import matplotlib.pyplot as plt\n",
    "\n",
    "srtio3_110.center(axis=2, vacuum=3)\n",
    "\n",
    "fig, (ax1, ax2) = plt.subplots(1, 2, figsize=(10,4))\n",
    "show_atoms(srtio3_110, plane='xz', ax = ax1);\n",
    "show_atoms(srtio3_110, plane='yz', ax = ax2);"
   ]
  },
  {
   "cell_type": "markdown",
   "metadata": {},
   "source": [
    "The manipulated structure can also be exported to disk; ASE will automatically use the file format indicated by the file ending, doing any required conversion."
   ]
  },
  {
   "cell_type": "code",
   "execution_count": 55,
   "metadata": {},
   "outputs": [],
   "source": [
    "from ase.io import write\n",
    "\n",
    "write('data/srtio3_110_surface.cif', srtio3_110)"
   ]
  },
  {
   "cell_type": "markdown",
   "metadata": {},
   "source": [
    "## Interactive example of supercell size"
   ]
  },
  {
   "cell_type": "code",
   "execution_count": 62,
   "metadata": {
    "scrolled": false
   },
   "outputs": [
    {
     "data": {
      "application/vnd.jupyter.widget-view+json": {
       "model_id": "d25264a1e42d4faea9ae8d9cf4f810c8",
       "version_major": 2,
       "version_minor": 0
      },
      "text/plain": [
       "VBox(children=(HBox(children=(VBox(children=(HBox(children=(HBox(layout=Layout(width='50px')), HTML(value=\"<p …"
      ]
     },
     "metadata": {},
     "output_type": "display_data"
    }
   ],
   "source": [
    "# Canvases are layout areas where things are plotted.\n",
    "canvas = Canvas(height=400, width=400)\n",
    " \n",
    "srtio3_110 = surface(srtio3, indices=(1, 1, 0), layers=4, periodic=True)\n",
    "\n",
    "# Artists do the plotting.\n",
    "scale = 1400\n",
    "artist = AtomsArtist(atoms=srtio3, scale=scale, plane='xy')\n",
    "canvas.artists = {'atoms': artist}\n",
    " \n",
    "# Defines an interactive slider for the H-H distances.\n",
    "slider1 = widgets.IntSlider(description='x supercell', min=1, max=4, value=1, step=1)\n",
    "slider2 = widgets.IntSlider(description='y supercell', min=1, max=4, value=1, step=1)\n",
    " \n",
    "def slider_change(*args):\n",
    "    srtio3_110 = surface(srtio3, indices=(1, 1, 0), layers=4, periodic=True) \n",
    "    srtio3_110 *= (slider1.value, slider2.value, 1)\n",
    "    srtio3_110.center(vacuum=2)\n",
    "        \n",
    "    with canvas.hold_trait_notifications(): # update traits simultaneously\n",
    "        canvas.x_limits = [-.2 * srtio3_110.cell[0,0], srtio3_110.cell[0,0] + .2 * srtio3_110.cell[0,0]]\n",
    "        canvas.y_limits = [-.2 * srtio3_110.cell[1,1], srtio3_110.cell[1,1] + .2 * srtio3_110.cell[1,1]]\n",
    "        area = ((canvas.y_limits[1]- canvas.y_limits[0]) * (canvas.x_limits[1]- canvas.x_limits[0]))\n",
    "        artist.scale = scale / area\n",
    "        artist.atoms = srtio3_110\n",
    "       \n",
    "slider1.observe(slider_change, 'value')\n",
    "slider2.observe(slider_change, 'value')\n",
    "slider_change()\n",
    "\n",
    "canvas.x_label = 'x [Å]'\n",
    "canvas.y_label = 'y [Å]'\n",
    "canvas.title = 'SrTiO3 surface supercell'\n",
    "\n",
    "slider1.style = {'description_width': '100px'}\n",
    "slider2.style = {'description_width': '100px'}\n",
    "slider1.layout = {'width': '400px'}\n",
    "slider2.layout = {'width': '400px'}\n",
    "\n",
    "widgets.VBox([widgets.HBox([canvas.widget]), slider1, slider2])"
   ]
  },
  {
   "cell_type": "markdown",
   "metadata": {},
   "source": [
    "## Procedural creation"
   ]
  },
  {
   "cell_type": "markdown",
   "metadata": {},
   "source": [
    "ASE also includes modules for procedurally generating special structures such as [carbon nanotubes](https://wiki.fysik.dtu.dk/ase/ase/build/build.html#nanotubes) and [nanoparticles](https://wiki.fysik.dtu.dk/ase/ase/cluster/cluster.html). Here we create a chirality $(6,0)$ nanotube (`length=1` here indicates the minimal commensurate unit cell along the tube axis)."
   ]
  },
  {
   "cell_type": "code",
   "execution_count": null,
   "metadata": {},
   "outputs": [],
   "source": [
    "from ase.build import nanotube\n",
    "cnt = nanotube(6, 4, length=1)\n",
    "\n",
    "show_atoms(cnt);"
   ]
  },
  {
   "cell_type": "markdown",
   "metadata": {},
   "source": [
    "As shown above, the electron propagation axis is along the length of the nanotube ($z$), which is probably not what you would like for an image simulation. To rotate the nanotube we use the ASE [rotate](https://wiki.fysik.dtu.dk/ase/ase/atoms.html?highlight=atoms#ase.Atoms.rotate) method with the angle given in degrees and the rotation axis chosen to be $x$. Note that we also want to rotate the unit cell along with the structure."
   ]
  },
  {
   "cell_type": "code",
   "execution_count": null,
   "metadata": {},
   "outputs": [],
   "source": [
    "cnt.rotate(-90, 'x', rotate_cell=True)\n",
    "cnt.center(vacuum=5, axis=(0,1))\n",
    "\n",
    "show_atoms(cnt);"
   ]
  },
  {
   "cell_type": "markdown",
   "metadata": {},
   "source": [
    "Nanoparticles can be created using the `cluster` class with objects for different crystal groups. Here, we rotate the particle for visualization purposes."
   ]
  },
  {
   "cell_type": "code",
   "execution_count": null,
   "metadata": {},
   "outputs": [],
   "source": [
    "import ase\n",
    "from ase.cluster.cubic import FaceCenteredCubic\n",
    "\n",
    "surfaces = [(1, 0, 0), (1, 1, 0), (1, 1, 1)]\n",
    "layers = [6, 9, 5]\n",
    "lc = 3.61000\n",
    "fcc = FaceCenteredCubic('Cu', surfaces, layers, latticeconstant=lc)\n",
    "\n",
    "fcc.rotate(10,'y')\n",
    "fcc.rotate(10,'x')\n",
    "\n",
    "show_atoms(fcc);"
   ]
  },
  {
   "cell_type": "markdown",
   "metadata": {},
   "source": [
    "The [Wulff construction](https://wiki.fysik.dtu.dk/ase/ase/cluster/cluster.html#wulff-construction) is also available via ASE."
   ]
  },
  {
   "cell_type": "markdown",
   "metadata": {},
   "source": [
    "## Interactive example of nanoparticle"
   ]
  },
  {
   "cell_type": "code",
   "execution_count": 60,
   "metadata": {},
   "outputs": [
    {
     "data": {
      "application/vnd.jupyter.widget-view+json": {
       "model_id": "41dafd4098cd4d64bbfc89ed33bff92b",
       "version_major": 2,
       "version_minor": 0
      },
      "text/plain": [
       "HBox(children=(AtomsView(children=(NGLWidget(layout=Layout(height='300px', width='300px')),)), VBox(children=(…"
      ]
     },
     "metadata": {},
     "output_type": "display_data"
    }
   ],
   "source": [
    "import numpy as np\n",
    " \n",
    "from nglview import ASEStructure, NGLWidget, ASETrajectory\n",
    "from traitlets import HasTraits, Instance, observe\n",
    "import ipywidgets as widgets\n",
    " \n",
    "from ase.cluster.cubic import FaceCenteredCubic\n",
    "from ase import Atoms\n",
    " \n",
    " \n",
    "class AtomsView(widgets.HBox):\n",
    "    atoms = Instance(Atoms)\n",
    "   \n",
    "    def __init__(self, atoms, width=300, height=300, **kwargs):\n",
    "        self._ngl_widget = NGLWidget(ASEStructure(atoms))\n",
    "        self._ngl_widget.layout.width = f'{width}px'\n",
    "        self._ngl_widget.layout.height = f'{height}px'\n",
    "        self._ngl_widget.add_spacefill()\n",
    "        self._ngl_widget.update_spacefill(radiusType='covalent', radiusScale=1., color_scale='rainbow')\n",
    "        self._ngl_widget.camera = 'orthographic'\n",
    "        self._ngl_widget.parameters = { \"clipDist\": 0 }\n",
    "        self._ngl_widget.add_unitcell()\n",
    "        super().__init__(children=[self._ngl_widget], **kwargs)\n",
    "   \n",
    "    def center(self,*args, **kwargs):\n",
    "        self._ngl_widget.center(*args, **kwargs)\n",
    "   \n",
    "    def get_camera_orientation(self):\n",
    "        return np.array(atoms_view._ngl_widget._camera_orientation).reshape(4,4)\n",
    "   \n",
    "    def set_camera_orientation(self, orientation):\n",
    "        self._ngl_widget._set_camera_orientation(list(np.array(orientation).flatten()))\n",
    "   \n",
    "    @observe('atoms')\n",
    "    def _observe_atoms(self, *args):\n",
    "        structure = ASEStructure(self.atoms).get_structure_string()\n",
    "        structure = dict(data=structure, ext='pdb')\n",
    "        self._ngl_widget._remote_call('replaceStructure', target='Widget', args=[structure])\n",
    " \n",
    "def create_atoms(layers):\n",
    "    surfaces = [(1, 0, 0), (1, 1, 0), (1, 1, 1)]\n",
    "    lc = 3.61000\n",
    "    fcc = FaceCenteredCubic('Cu', surfaces, layers, latticeconstant=lc)\n",
    "    fcc.set_cell((40,40,40))\n",
    "    fcc.center()\n",
    "    fcc.pbc = True\n",
    "    return fcc\n",
    "   \n",
    "atoms_view = AtomsView(create_atoms((2,2,2)))\n",
    " \n",
    "slider1 = widgets.IntSlider(description='x layers', min=2, max=10, value=2, step=1)\n",
    "slider2 = widgets.IntSlider(description='y layers', min=2, max=10, value=2, step=1)\n",
    "slider3 = widgets.IntSlider(description='z layers', min=2, max=10, value=2, step=1)\n",
    " \n",
    "def slider_change(*args):\n",
    "    layers = [slider1.value, slider2.value, slider3.value]\n",
    "    atoms_view.atoms = create_atoms(layers)\n",
    " \n",
    "slider1.observe(slider_change, 'value')\n",
    "slider2.observe(slider_change, 'value')\n",
    "slider3.observe(slider_change, 'value')\n",
    " \n",
    "app = widgets.HBox([atoms_view,\n",
    "    widgets.VBox([slider1, slider2, slider3])])\n",
    " \n",
    "atoms_view.center()\n",
    "initial_camera_orientation = [[ 80.66476301,  -9.96646056, -34.52974435,   0.        ],\n",
    "                              [  2.34274443,  86.12296529, -19.38514821,   0.        ],\n",
    "                              [ 35.86286561,  16.79113119,  78.93256841,   0.        ],\n",
    "                              [-20.        , -20.        , -20.        ,   1.        ]]\n",
    " \n",
    "atoms_view.set_camera_orientation(initial_camera_orientation)\n",
    " \n",
    "app"
   ]
  },
  {
   "cell_type": "markdown",
   "metadata": {},
   "source": [
    "## General Bravais lattice"
   ]
  },
  {
   "cell_type": "markdown",
   "metadata": {},
   "source": [
    "The ASE [lattice](https://wiki.fysik.dtu.dk/ase/ase/lattice.html) module provides a general framework for creating Atoms objects based on a Bravais lattice and a basis. Here we create a class for making graphene."
   ]
  },
  {
   "cell_type": "code",
   "execution_count": null,
   "metadata": {},
   "outputs": [],
   "source": [
    "from ase.lattice.hexagonal import HexagonalFactory\n",
    "\n",
    "class GrapheneFactory(HexagonalFactory):\n",
    "    'A factory for creating graphene lattices.'\n",
    "    xtal_name = 'graphene'\n",
    "    bravais_basis = [[0, 0, 0], [1.0 / 3., 2.0 / 3.0, 0.]]\n",
    "\n",
    "Graphene = GrapheneFactory()\n",
    "\n",
    "graphene = Graphene('C', latticeconstant={'a' : 2.46, 'c' : 6})\n",
    "\n",
    "graphene.center(axis=2)\n",
    "\n",
    "show_atoms(graphene);"
   ]
  },
  {
   "cell_type": "markdown",
   "metadata": {},
   "source": [
    "The minimal unit cell of graphene is hexagonal, whereas the multislice algorithm requires an orthogonal unit cell. To make the unit cell orthogonal, we can use the abTEM `orthogonalize_cell` function. It is not always possible to make a periodic cell orthogonal without introducing some strain, hence we can return the strain tensor. Hexagonal cells can be made orthogonal by doubling it size without introducing strain, hence the strain tensor is zero."
   ]
  },
  {
   "cell_type": "code",
   "execution_count": null,
   "metadata": {
    "pycharm": {
     "name": "#%%\n"
    }
   },
   "outputs": [],
   "source": [
    "from abtem.structures import orthogonalize_cell\n",
    "\n",
    "orthogonal_graphene, strain = orthogonalize_cell(graphene, return_strain=True)\n",
    "\n",
    "print(strain)"
   ]
  },
  {
   "cell_type": "code",
   "execution_count": null,
   "metadata": {},
   "outputs": [],
   "source": [
    "show_atoms(orthogonal_graphene);"
   ]
  }
 ],
 "metadata": {
  "kernelspec": {
   "display_name": "Python 3 (ipykernel)",
   "language": "python",
   "name": "python3"
  },
  "language_info": {
   "codemirror_mode": {
    "name": "ipython",
    "version": 3
   },
   "file_extension": ".py",
   "mimetype": "text/x-python",
   "name": "python",
   "nbconvert_exporter": "python",
   "pygments_lexer": "ipython3",
   "version": "3.8.12"
  }
 },
 "nbformat": 4,
 "nbformat_minor": 4
}
