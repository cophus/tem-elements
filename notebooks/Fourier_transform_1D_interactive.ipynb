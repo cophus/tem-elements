{
 "cells": [
  {
   "cell_type": "code",
   "execution_count": 1,
   "id": "b90ebe0d",
   "metadata": {},
   "outputs": [],
   "source": [
    "import ipywidgets as widgets\n",
    "from abtem.visualize.interactive.canvas import Canvas\n",
    "from abtem.visualize.interactive.artists import ScatterArtist\n",
    "import numpy as np"
   ]
  },
  {
   "cell_type": "code",
   "execution_count": 2,
   "id": "a4f95007",
   "metadata": {},
   "outputs": [],
   "source": [
    "from ipyevents import Event\n",
    "from scipy.spatial import KDTree"
   ]
  },
  {
   "cell_type": "code",
   "execution_count": 59,
   "id": "0d5f6311",
   "metadata": {},
   "outputs": [],
   "source": [
    "class EditPointTags:\n",
    "\n",
    "    def __init__(self, tags, data_fields=None):\n",
    "        self._tags = tags\n",
    "\n",
    "        if data_fields is None:\n",
    "            data_fields = {}\n",
    "\n",
    "        self._data_fields = data_fields\n",
    "        self._event = Event(watched_events=['click'])\n",
    "\n",
    "    @property\n",
    "    def label(self):\n",
    "        return self._label\n",
    "\n",
    "    @label.setter\n",
    "    def label(self, value):\n",
    "        self._label = value\n",
    "\n",
    "    def activate(self, canvas):\n",
    "        self._event.source = canvas\n",
    "\n",
    "        def handle_event(event):\n",
    "            x, y = canvas.pixel_to_domain(event['offsetX'], event['offsetY'])\n",
    "            tags = self._tags\n",
    "\n",
    "            if event['altKey'] is True:\n",
    "                positions = np.array([tags.x, tags.y]).T\n",
    "                distances, indices = KDTree(positions).query([[x, y]])\n",
    "                tags.delete_tags(indices)\n",
    "            else:\n",
    "                tags.add_tags([x], [y], {key: [value] for key, value in self._data_fields.items()})\n",
    "\n",
    "        self._event.on_dom_event(handle_event)\n",
    "\n",
    "    def deactivate(self, canvas):\n",
    "        self._event.reset_callbacks()\n"
   ]
  },
  {
   "cell_type": "code",
   "execution_count": 8,
   "id": "9b5824eb",
   "metadata": {},
   "outputs": [
    {
     "data": {
      "text/plain": [
       "LinearScale(allow_padding=False, max=10.0, min=0.0)"
      ]
     },
     "execution_count": 8,
     "metadata": {},
     "output_type": "execute_result"
    }
   ],
   "source": [
    "canvas2.x_scale"
   ]
  },
  {
   "cell_type": "code",
   "execution_count": 134,
   "id": "f8124074",
   "metadata": {},
   "outputs": [],
   "source": []
  },
  {
   "cell_type": "code",
   "execution_count": 142,
   "id": "588d82d8",
   "metadata": {},
   "outputs": [
    {
     "data": {
      "application/vnd.jupyter.widget-view+json": {
       "model_id": "86bfe5593f9042319c58ff49b32bb2cf",
       "version_major": 2,
       "version_minor": 0
      },
      "text/plain": [
       "VBox(children=(HBox(children=(Canvas(children=(VBox(children=(HBox(children=(HBox(layout=Layout(width='50px'))…"
      ]
     },
     "metadata": {},
     "output_type": "display_data"
    }
   ],
   "source": [
    "canvas1 = Canvas()\n",
    "canvas2 = Canvas()\n",
    "\n",
    "fft_artist = ScatterArtist()\n",
    "canvas2.artists = {'artist': fft_artist}\n",
    "\n",
    "canvas2.x_limits = [0,10]\n",
    "canvas2.y_limits = [0,10]\n",
    "\n",
    "fft_artist.x = np.linspace(0,10,10)\n",
    "fft_artist.y = np.linspace(0,10,10)\n",
    "#fft_artist._mark.enable_move = True\n",
    "#fft_artist._mark.restrict_y = True\n",
    "fft_artist._mark.default_size = 200\n",
    "\n",
    "\n",
    "event = Event(watched_events=['click', 'mousemove'])\n",
    "\n",
    "\n",
    "l = widgets.Label('Click or type on me!')\n",
    "l.layout.border = '2px solid red'\n",
    "\n",
    "h = widgets.HTML('Event info')\n",
    "event_obj = Event(source=canvas2, watched_events=['click', 'mousemove', 'mouseup', 'mousedown'])\n",
    "\n",
    "event_obj._selected = None\n",
    "\n",
    "def handle_event(event):\n",
    "    mouse_x, mouse_y = canvas2.pixel_to_domain(event['offsetX'], event['offsetY'])\n",
    "    \n",
    "    if event['type'] == 'mousedown':\n",
    "        positions = np.array([fft_artist.x, fft_artist.y]).T\n",
    "        distances, indices = KDTree(positions).query([[mouse_x, mouse_y]])\n",
    "        event_obj._selected = indices[0]\n",
    "    elif event['type'] == 'mousemove':\n",
    "        if event_obj._selected is not None: \n",
    "            x = fft_artist.x.copy()\n",
    "            y = fft_artist.y.copy()\n",
    "            color = fft_artist._mark.color.copy()\n",
    "            \n",
    "            y[event_obj._selected] = mouse_y\n",
    "            color[event_obj._selected] = -(x[event_obj._selected] - mouse_x) * 5\n",
    "\n",
    "            h.value = f'{event_obj._selected}'\n",
    "\n",
    "            fft_artist.x = x\n",
    "            fft_artist.y = y\n",
    "            fft_artist._mark.color = color\n",
    "            \n",
    "    elif event['type'] == 'mouseup':\n",
    "        event_obj._selected = None\n",
    "    \n",
    "fft_artist._mark.color = np.linspace(0,10,10)\n",
    "\n",
    "event_obj.on_dom_event(handle_event)\n",
    "\n",
    "widgets.VBox([widgets.HBox([canvas1, canvas2]), h])"
   ]
  },
  {
   "cell_type": "code",
   "execution_count": 138,
   "id": "0a447f12",
   "metadata": {},
   "outputs": [],
   "source": []
  },
  {
   "cell_type": "code",
   "execution_count": 124,
   "id": "5b008671",
   "metadata": {},
   "outputs": [
    {
     "data": {
      "text/plain": [
       "4"
      ]
     },
     "execution_count": 124,
     "metadata": {},
     "output_type": "execute_result"
    }
   ],
   "source": [
    "event_obj._selected"
   ]
  },
  {
   "cell_type": "code",
   "execution_count": 69,
   "id": "ea2588f4",
   "metadata": {},
   "outputs": [
    {
     "data": {
      "application/vnd.jupyter.widget-view+json": {
       "model_id": "fce703d330d747cc8078d361711e33fb",
       "version_major": 2,
       "version_minor": 0
      },
      "text/plain": [
       "Label(value='Click or type on me!', layout=Layout(border='2px solid red'))"
      ]
     },
     "metadata": {},
     "output_type": "display_data"
    },
    {
     "data": {
      "application/vnd.jupyter.widget-view+json": {
       "model_id": "8737b28bbf9b417abdd08c64812132e6",
       "version_major": 2,
       "version_minor": 0
      },
      "text/plain": [
       "HTML(value='Event info')"
      ]
     },
     "metadata": {},
     "output_type": "display_data"
    }
   ],
   "source": []
  },
  {
   "cell_type": "code",
   "execution_count": 67,
   "id": "dd677c45",
   "metadata": {},
   "outputs": [],
   "source": []
  }
 ],
 "metadata": {
  "kernelspec": {
   "display_name": "abTEM_interactive",
   "language": "python",
   "name": "abtem_interactive"
  },
  "language_info": {
   "codemirror_mode": {
    "name": "ipython",
    "version": 3
   },
   "file_extension": ".py",
   "mimetype": "text/x-python",
   "name": "python",
   "nbconvert_exporter": "python",
   "pygments_lexer": "ipython3",
   "version": "3.8.8"
  }
 },
 "nbformat": 4,
 "nbformat_minor": 5
}
