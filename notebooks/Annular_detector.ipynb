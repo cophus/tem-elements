{
 "cells": [
  {
   "cell_type": "code",
   "execution_count": 1,
   "id": "6aa9f302-c9c5-40c1-b759-0bb0f1865b96",
   "metadata": {},
   "outputs": [
    {
     "data": {
      "text/html": [
       "<style>.container { width:60% !important; }</style>"
      ],
      "text/plain": [
       "<IPython.core.display.HTML object>"
      ]
     },
     "metadata": {},
     "output_type": "display_data"
    }
   ],
   "source": [
    "import ipywidgets as widgets\n",
    "from abtem import PixelatedDetector, FrozenPhonons, Probe, FlexibleAnnularDetector, show_atoms, SMatrix\n",
    "from abtem.measure import Measurement\n",
    "from abtem.visualize.interactive.artists import MeasurementArtist2d\n",
    "from abtem.visualize.interactive.canvas import Canvas\n",
    "from abtem.visualize.interactive.tools import SelectPixelTool, SelectAnnularRadiiTool\n",
    "from ase.io import read\n",
    "from traitlets import link\n",
    "\n",
    "from IPython.core.display import display, HTML\n",
    "display(HTML(\"<style>.container { width:60% !important; }</style>\"))"
   ]
  },
  {
   "cell_type": "code",
   "execution_count": 108,
   "id": "34714b77-df55-4851-9b77-0c57bb8a2070",
   "metadata": {},
   "outputs": [],
   "source": [
    "# from ase.cluster import Decahedron\n",
    "# import numpy as np\n",
    "# from abtem import GridScan, Potential\n",
    "# from ase import build\n",
    "\n",
    "# atoms = Decahedron('Au', 4, 2, 1, latticeconstant=None)\n",
    "# atoms.rotate(30, 'x', center='cop')\n",
    "# atoms.center(vacuum=2)\n",
    "\n",
    "# carbon = build.bulk('C', 'diamond', cubic=True)\n",
    "# carbon *= (int(atoms.cell[0,0]/carbon.cell[0,0]),int(atoms.cell[1,1]/carbon.cell[1,1]),4)\n",
    "\n",
    "# carbon.set_cell((atoms.cell[0,0], atoms.cell[1,1], carbon.cell[2,2]), scale_atoms=True)\n",
    "# carbon.positions[:] += np.random.randn(len(carbon), 3) * .3\n",
    "# carbon.positions[:,2] += atoms.positions[:,2].max()\n",
    "\n",
    "# #carbon.wrap()\n",
    "\n",
    "# #atoms += carbon\n",
    "\n",
    "# atoms.center(axis=2, vacuum=2)\n",
    "\n",
    "# show_atoms(atoms, plane='xy')"
   ]
  },
  {
   "cell_type": "code",
   "execution_count": 109,
   "id": "c410838d",
   "metadata": {
    "pycharm": {
     "name": "#%%\n"
    }
   },
   "outputs": [],
   "source": [
    "# atoms = read('srtio3_100.cif')\n",
    "# atoms *= (6, 6, 20)\n",
    "\n",
    "# # show_atoms(atoms)"
   ]
  },
  {
   "cell_type": "code",
   "execution_count": 110,
   "id": "587e360d-e2b2-476d-8d5a-594fac492a8f",
   "metadata": {},
   "outputs": [],
   "source": [
    "# potential = Potential(atoms=FrozenPhonons(atoms, sigmas=.0, num_configs=1),\n",
    "#                       projection='infinite',\n",
    "#                       parametrization='kirkland')\n",
    "\n",
    "# #S = Probe(semiangle_cutoff=20, energy=100e3, gpts=512, device='gpu', rolloff=2)\n",
    "# S = SMatrix(semiangle_cutoff=20, energy=100e3, gpts=512, device='gpu', rolloff=2)\n",
    "\n",
    "# detector1 = FlexibleAnnularDetector()\n",
    "# detector2 = PixelatedDetector()\n",
    "\n",
    "# scan = GridScan((0, 0), np.diag(atoms.cell)[:2] / 6, sampling=S.ctf.nyquist_sampling * .8)\n",
    "\n",
    "# measurement1, measurement2 = S.scan(scan, [detector1, detector2], potential, max_batch_probes=500)"
   ]
  },
  {
   "cell_type": "code",
   "execution_count": 111,
   "id": "2a5fe734",
   "metadata": {},
   "outputs": [],
   "source": [
    "# potential = Potential(atoms=FrozenPhonons(atoms, sigmas=.08, num_configs=16),\n",
    "#                       projection='infinite',\n",
    "#                       parametrization='kirkland')\n",
    "\n",
    "# #S = Probe(semiangle_cutoff=20, energy=100e3, gpts=512, device='gpu', rolloff=2)\n",
    "# S = SMatrix(semiangle_cutoff=20, energy=100e3, gpts=512, device='gpu', rolloff=2)\n",
    "\n",
    "# detector1 = FlexibleAnnularDetector()\n",
    "# detector2 = PixelatedDetector()\n",
    "\n",
    "# scan = GridScan((0, 0), np.diag(atoms.cell)[:2] / 6, sampling=S.ctf.nyquist_sampling * .8)\n",
    "\n",
    "# tds_measurement1, tds_measurement2 = S.scan(scan, [detector1, detector2], potential, max_batch_probes=500)"
   ]
  },
  {
   "cell_type": "code",
   "execution_count": 113,
   "id": "e209af85",
   "metadata": {},
   "outputs": [],
   "source": [
    "#measurement1.write('adf.hdf5')\n",
    "#measurement2.write('diffraction.hdf5')"
   ]
  },
  {
   "cell_type": "code",
   "execution_count": 112,
   "id": "cddb83e7",
   "metadata": {},
   "outputs": [],
   "source": [
    "#tds_measurement1.write('tds_adf.hdf5')\n",
    "#tds_measurement2.write('tds_diffraction.hdf5')"
   ]
  },
  {
   "cell_type": "code",
   "execution_count": 2,
   "id": "eea2bc38",
   "metadata": {},
   "outputs": [],
   "source": [
    "measurement1 = Measurement.read('data/adf.hdf5')\n",
    "measurement2 = Measurement.read('data/diffraction.hdf5')\n",
    "tds_measurement1 = Measurement.read('data/tds_adf.hdf5')\n",
    "tds_measurement2 = Measurement.read('data/tds_diffraction.hdf5')"
   ]
  },
  {
   "cell_type": "code",
   "execution_count": 3,
   "id": "8f903367-6197-49c7-b52f-64b28b3598d7",
   "metadata": {
    "scrolled": false
   },
   "outputs": [
    {
     "data": {
      "application/vnd.jupyter.widget-view+json": {
       "model_id": "9de3307b217c4efe82bc1c5a525c845e",
       "version_major": 2,
       "version_minor": 0
      },
      "text/plain": [
       "HBox(children=(VBox(children=(HBox(children=(HBox(layout=Layout(width='50px')), HTML(value=\"<p style='font-siz…"
      ]
     },
     "metadata": {},
     "output_type": "display_data"
    }
   ],
   "source": [
    "canvas1 = Canvas()\n",
    "canvas2 = Canvas()\n",
    "\n",
    "select = SelectAnnularRadiiTool(min_width=1, max_radius=160)\n",
    "select.inner_radius = 50\n",
    "select.outer_radius = 150\n",
    "\n",
    "image_artist1 = MeasurementArtist2d()\n",
    "image_artist2 = MeasurementArtist2d()\n",
    "canvas1.artists = {'image_artist': image_artist1}\n",
    "canvas2.artists = {'image_artist': image_artist2}\n",
    "\n",
    "toggle_log_button = widgets.ToggleButton(description='Log scale', value=False)\n",
    "position_tool = SelectPixelTool(image_artist=image_artist1.image_artist, marker=True)\n",
    "\n",
    "tds_button = widgets.ToggleButton(description='TDS', value=True)\n",
    "\n",
    "\n",
    "def update_image(*args):\n",
    "    if tds_button.value:\n",
    "        new_measurement = tds_measurement1.integrate(select.inner_radius, select.outer_radius)\n",
    "    else:\n",
    "        new_measurement = measurement1.integrate(select.inner_radius, select.outer_radius)\n",
    "    image_artist1.measurement = None\n",
    "    #print(image_artist1.image_artist.autoadjust_colorscale)\n",
    "    image_artist1.measurement = new_measurement.tile((6, 6)).gaussian_filter((.5, .5))#.interpolate(.2)\n",
    "\n",
    "\n",
    "def update_diffraction_pattern(*args):\n",
    "    index_x = position_tool.indices[0] % measurement2.shape[0]\n",
    "    index_y = position_tool.indices[1] % measurement2.shape[1]\n",
    "    \n",
    "    if tds_button.value:\n",
    "        new_meausurement = tds_measurement2[index_x, index_y].copy()\n",
    "    else:\n",
    "        new_meausurement = measurement2[index_x, index_y].copy()\n",
    "    \n",
    "    if toggle_log_button.value == True:\n",
    "        new_meausurement.array[:] = np.log(new_meausurement.array[:])\n",
    "\n",
    "    image_artist2.measurement = new_meausurement\n",
    "\n",
    "\n",
    "select.activate(canvas2)\n",
    "select.observe(update_image, ('inner_radius', 'outer_radius'))\n",
    "\n",
    "canvas1.title = 'Image'\n",
    "canvas2.title = 'Diffraction pattern'\n",
    "\n",
    "position_tool.observe(update_diffraction_pattern, 'indices')\n",
    "position_tool.activate(canvas1)\n",
    "\n",
    "update_image()\n",
    "update_diffraction_pattern()\n",
    "\n",
    "canvas1.adjust_labels_to_artists()\n",
    "canvas1.adjust_limits_to_artists()\n",
    "canvas2.adjust_labels_to_artists()\n",
    "canvas2.adjust_limits_to_artists()\n",
    "\n",
    "inner_slider = widgets.FloatRangeSlider(description='Limits', min=0, max=160, value=[50, 60], step=1)\n",
    "toggle_log_button.observe(update_diffraction_pattern, 'value')\n",
    "\n",
    "link((select, 'inner_radius'), (inner_slider, 'value'),\n",
    "     (lambda x: [x, select.outer_radius], lambda x: min(x[0], select.outer_radius - 1)))\n",
    "link((select, 'outer_radius'), (inner_slider, 'value'),\n",
    "     (lambda x: [select.inner_radius, x], lambda x: max(x[1], select.inner_radius + 1)))\n",
    "\n",
    "autoadjust_button = widgets.ToggleButton(description='Autoadjust colorscale', value=True)\n",
    "\n",
    "link((autoadjust_button, 'value'), (image_artist1.image_artist, 'autoadjust_colorscale'))\n",
    "link((autoadjust_button, 'value'), (image_artist2.image_artist, 'autoadjust_colorscale'))\n",
    "\n",
    "autoadjust_button.observe(update_image, 'value')\n",
    "autoadjust_button.observe(update_diffraction_pattern, 'value')\n",
    "\n",
    "canvas2.x_label = 'Scattering angle x [mrad.]'\n",
    "canvas2.y_label = 'Scattering angle y [mrad.]'\n",
    "\n",
    "tds_button.observe(update_image, 'value')\n",
    "tds_button.observe(update_diffraction_pattern, 'value')\n",
    "\n",
    "whitespace = widgets.HBox([])\n",
    "whitespace.layout.height = '30px'\n",
    "\n",
    "widgets.HBox(\n",
    "    [canvas2.widget, canvas1.widget, widgets.VBox([whitespace, inner_slider, \n",
    "                                                   image_artist2.image_artist.power_scale_slider, widgets.HBox([autoadjust_button, tds_button])])])"
   ]
  }
 ],
 "metadata": {
  "kernelspec": {
   "display_name": "abTEM_interactive",
   "language": "python",
   "name": "abtem_interactive"
  },
  "language_info": {
   "codemirror_mode": {
    "name": "ipython",
    "version": 3
   },
   "file_extension": ".py",
   "mimetype": "text/x-python",
   "name": "python",
   "nbconvert_exporter": "python",
   "pygments_lexer": "ipython3",
   "version": "3.8.8"
  }
 },
 "nbformat": 4,
 "nbformat_minor": 5
}
