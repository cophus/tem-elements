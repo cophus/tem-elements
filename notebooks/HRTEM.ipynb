{
 "cells": [
  {
   "cell_type": "code",
   "execution_count": 1,
   "metadata": {},
   "outputs": [
    {
     "data": {
      "text/html": [
       "<style>.container { width:60% !important; }</style>"
      ],
      "text/plain": [
       "<IPython.core.display.HTML object>"
      ]
     },
     "metadata": {},
     "output_type": "display_data"
    }
   ],
   "source": [
    "import ipywidgets as widgets\n",
    "import numpy as np\n",
    "from ase import Atoms\n",
    "from ase.cluster import wulff_construction\n",
    "from abtem import Probe, Waves\n",
    "from abtem.visualize.interactive.artists import ImageArtist, LinesArtist, MeasurementArtist1d, MeasurementArtist2d\n",
    "from abtem.visualize.interactive.canvas import Canvas\n",
    "from abtem.visualize.utils import domain_coloring\n",
    "from abtem.visualize.interactive.utils import throttle\n",
    "from traitlets import link\n",
    "from ase.build import graphene\n",
    "from abtem.structures import orthogonalize_cell\n",
    "from abtem import PlaneWave, CTF\n",
    "from IPython.core.display import display, HTML\n",
    "display(HTML(\"<style>.container { width:60% !important; }</style>\"))\n"
   ]
  },
  {
   "cell_type": "code",
   "execution_count": 2,
   "metadata": {},
   "outputs": [],
   "source": [
    "# atoms = orthogonalize_cell(graphene())\n",
    "# atoms.center(axis=2, vacuum=2)\n",
    "# atoms *= (3,2,1)\n",
    "\n",
    "# wave = PlaneWave(energy=300e3, sampling=.1)\n",
    "# graphene_exit_wave = wave.multislice(atoms, pbar=False)\n",
    "\n",
    "# graphene_exit_wave.write('graphene_exit_wave.hdf5')\n",
    "\n",
    "graphene_exit_wave = Waves.read('data/graphene_exit_wave.hdf5')"
   ]
  },
  {
   "cell_type": "code",
   "execution_count": 3,
   "metadata": {},
   "outputs": [],
   "source": [
    "# surfaces = [(1, 0, 0), (1, 1, 0), (1, 1, 1)] # Nanoparticle facets\n",
    "# esurf = [1.0, 1.1, 0.9] # Relative surface energies\n",
    "# size = 1000 # Target number of atoms\n",
    "# atoms = Atoms(wulff_construction('Au', surfaces, esurf, size, 'fcc', rounding='above'))\n",
    "# atoms.center(vacuum=5)\n",
    "# atoms.rotate(45, 'x', center='cop')\n",
    "\n",
    "# wave = PlaneWave(energy=300e3, sampling=.1)\n",
    "# nanoparticle_exit_wave = wave.multislice(atoms, pbar=False)\n",
    "\n",
    "# nanoparticle_exit_wave.write('nanoparticle_exit_wave.hdf5')\n",
    "\n",
    "nanoparticle_exit_wave = Waves.read('data/nanoparticle_exit_wave.hdf5')"
   ]
  },
  {
   "cell_type": "code",
   "execution_count": 18,
   "metadata": {},
   "outputs": [],
   "source": [
    "max_semiangle = 100\n",
    "\n",
    "canvas1 = Canvas()\n",
    "canvas2 = Canvas()\n",
    "\n",
    "ctf_artist = MeasurementArtist1d(colors='red')\n",
    "envelope_artist = MeasurementArtist1d(colors='blue')\n",
    "aperture_artist = MeasurementArtist1d(colors='green')\n",
    "temporal_envelope_artist = MeasurementArtist1d(colors='orange')\n",
    "spatial_envelope_artist = MeasurementArtist1d(colors='magenta')\n",
    "gaussian_envelope_artist = MeasurementArtist1d(colors='cyan')\n",
    "\n",
    "canvas1.artists = {'ctf': ctf_artist, \n",
    "                   'envelope': envelope_artist, \n",
    "                   'aperture':aperture_artist, \n",
    "                   'temporal_envelope':temporal_envelope_artist,\n",
    "                   'spatial_envelope':spatial_envelope_artist,\n",
    "                   'gaussian_envelope':gaussian_envelope_artist\n",
    "                  \n",
    "                  \n",
    "                  }\n",
    "canvas1.y_scale.min = -1.1\n",
    "canvas1.y_scale.max = 1.1\n",
    "\n",
    "artist2 = MeasurementArtist2d()\n",
    "canvas2.artists = {'image': artist2}\n",
    "\n",
    "defocus_slider = widgets.FloatSlider(description='Defocus', min=-1e2, max=1e2, value=0, step=1e1)\n",
    "cs_slider = widgets.FloatSlider(description='Cs', min=-1e5, max=1e5, value=0, step=1e3)\n",
    "aperture_slider = widgets.FloatSlider(description='Aperture', min=10, max=100, value=30, step=1)\n",
    "focal_spread_slider = widgets.FloatSlider(description='Focal spread', min=0, max=50, value=0, step=1)\n",
    "angular_spread_slider = widgets.FloatSlider(description='Angular spread', min=0, max=50, value=0, step=1)\n",
    "gaussian_spread_slider = widgets.FloatSlider(description='Gaussian spread', min=0, max=2, value=0, step=.1)\n",
    "\n",
    "structure_dropdown = widgets.Dropdown(description='Structure', options=['Graphene', 'Nanoparticle'], value='Graphene')\n",
    "\n",
    "def update(*args):\n",
    "    if structure_dropdown.value == 'Graphene':\n",
    "        exit_wave = graphene_exit_wave\n",
    "    elif structure_dropdown.value == 'Nanoparticle':\n",
    "        exit_wave = nanoparticle_exit_wave\n",
    "    \n",
    "    ctf = CTF(defocus = defocus_slider.value,\n",
    "              Cs = cs_slider.value,\n",
    "              semiangle_cutoff=aperture_slider.value,\n",
    "              energy=exit_wave.energy,\n",
    "              focal_spread=focal_spread_slider.value,\n",
    "              angular_spread = angular_spread_slider.value,\n",
    "              gaussian_spread = gaussian_spread_slider.value\n",
    "             )\n",
    "    \n",
    "    profiles = ctf.profiles(max_semiangle, phi=0)\n",
    "    aberrated_wave = exit_wave.apply_ctf(ctf)\n",
    "    \n",
    "    for name, artist in canvas1.artists.items():\n",
    "        \n",
    "        artist.measurement = profiles[name]\n",
    "\n",
    "    artist2.measurement = aberrated_wave.intensity()[0]\n",
    "\n",
    "defocus_slider.observe(update, 'value')\n",
    "cs_slider.observe(update, 'value')\n",
    "aperture_slider.observe(update, 'value')\n",
    "focal_spread_slider.observe(update, 'value')\n",
    "angular_spread_slider.observe(update, 'value')\n",
    "gaussian_spread_slider.observe(update, 'value')\n",
    "\n",
    "structure_dropdown.observe(update, 'value')\n",
    "\n",
    "autoadjust_button = widgets.ToggleButton(description='Autoadjust colorscale', value=True)\n",
    "link((autoadjust_button, 'value'), (artist2._image_artist, 'autoadjust_colorscale'));\n",
    "\n",
    "\n",
    "ctf_artist._lines_artist._mark.labels = ['CTF']\n",
    "envelope_artist._lines_artist._mark.labels = ['Envelope']\n",
    "aperture_artist._lines_artist._mark.labels = ['Aperture']\n",
    "temporal_envelope_artist._lines_artist._mark.labels = ['Temporal envelope']\n",
    "spatial_envelope_artist._lines_artist._mark.labels = ['Spatial envelope']\n",
    "gaussian_envelope_artist._lines_artist._mark.labels = ['Gaussian envelope']\n",
    "\n",
    "ctf_artist._lines_artist._mark.display_legend = True\n",
    "envelope_artist._lines_artist._mark.display_legend = True\n",
    "aperture_artist._lines_artist._mark.display_legend = True\n",
    "temporal_envelope_artist._lines_artist._mark.display_legend = True\n",
    "spatial_envelope_artist._lines_artist._mark.display_legend = True\n",
    "gaussian_envelope_artist._lines_artist._mark.display_legend = True\n",
    "\n",
    "#linesartist2._mark.display_legend = True\n",
    "\n",
    "canvas1.y_label = 'CTF'\n",
    "canvas1.x_label = 'Scattering angle [mread]'\n",
    "\n",
    "canvas2.x_label = 'x [Å]'\n",
    "canvas2.y_label = 'y [Å]'\n",
    "\n",
    "canvas1.figure.legend_location = 'bottom-right'"
   ]
  },
  {
   "cell_type": "code",
   "execution_count": 19,
   "metadata": {
    "scrolled": false
   },
   "outputs": [
    {
     "data": {
      "application/vnd.jupyter.widget-view+json": {
       "model_id": "cb2d2656ebd74cfb88f81e2b3e8d68b1",
       "version_major": 2,
       "version_minor": 0
      },
      "text/plain": [
       "HBox(children=(VBox(children=(HBox(children=(HBox(layout=Layout(width='50px')), HTML(value=\"<p style='font-siz…"
      ]
     },
     "metadata": {},
     "output_type": "display_data"
    }
   ],
   "source": [
    "update()\n",
    "\n",
    "widgets_box = widgets.VBox([structure_dropdown, aperture_slider, defocus_slider, cs_slider, \n",
    "                            focal_spread_slider, angular_spread_slider, gaussian_spread_slider, autoadjust_button])\n",
    "\n",
    "widgets.HBox([canvas1.widget, canvas2.widget,\n",
    "widgets_box\n",
    "             \n",
    "             ])"
   ]
  }
 ],
 "metadata": {
  "kernelspec": {
   "display_name": "abTEM_interactive",
   "language": "python",
   "name": "abtem_interactive"
  },
  "language_info": {
   "codemirror_mode": {
    "name": "ipython",
    "version": 3
   },
   "file_extension": ".py",
   "mimetype": "text/x-python",
   "name": "python",
   "nbconvert_exporter": "python",
   "pygments_lexer": "ipython3",
   "version": "3.8.8"
  }
 },
 "nbformat": 4,
 "nbformat_minor": 4
}
