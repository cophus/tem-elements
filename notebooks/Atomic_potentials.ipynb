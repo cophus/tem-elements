{
 "cells": [
  {
   "cell_type": "code",
   "execution_count": 18,
   "metadata": {},
   "outputs": [],
   "source": [
    "import matplotlib.pyplot as plt\n",
    "import numpy as np \n",
    "\n",
    "from abtem.potentials import Potential\n",
    "from abtem import show_atoms\n",
    "from ase import Atoms\n",
    "\n",
    "import ipywidgets as widgets\n",
    "\n",
    "from abtem.visualize.interactive.artists import ImageArtist\n",
    "from abtem.visualize.interactive.artists import LinesArtist\n",
    "from abtem.visualize.interactive.utils import throttle\n",
    "from abtem.visualize.interactive.canvas import Canvas\n",
    "from abtem.visualize.utils import domain_coloring"
   ]
  },
  {
   "cell_type": "code",
   "execution_count": 19,
   "metadata": {},
   "outputs": [],
   "source": [
    "canvas1 = Canvas(height=400, width=400, fig_margin={'top':10, 'bottom':50, 'left':60, 'right':20})\n",
    "canvas2 = Canvas(height=400, width=400, fig_margin={'top':10, 'bottom':50, 'left':60, 'right':30})\n",
    "\n",
    "artist1 = ImageArtist(autoadjust_colorscale = False)\n",
    "artist1._color_scale.min = 0\n",
    "artist1._color_scale.max = 500\n",
    "artist1.color_scheme = 'plasma'\n",
    "canvas1.artists = {'image': artist1}\n",
    "\n",
    "artist2 = LinesArtist()\n",
    "\n",
    "canvas2.artists = {'image': artist2}"
   ]
  },
  {
   "cell_type": "code",
   "execution_count": 45,
   "metadata": {},
   "outputs": [],
   "source": [
    "slider = widgets.IntSlider(description='Atomic number', min=1, max=32, value=1, step=1)\n",
    "\n",
    "gpts = 128\n",
    "vac = 2.0\n",
    "\n",
    "def slider_change(*args):\n",
    "    atoms = Atoms([slider.value])\n",
    "    atoms.center(vac)\n",
    "    atoms.pbc=True\n",
    "\n",
    "    potential = Potential(atoms, gpts=gpts, projection='infinite', parametrization='kirkland').build()\n",
    "    projected = potential.project()\n",
    "    artist1.image = projected.array\n",
    "\n",
    "    shape = np.shape(potential.array)\n",
    "    line = potential.array[shape[0]//2,shape[1]//2,:]\n",
    "    artist2.x = projected.calibrations[0].coordinates(gpts)\n",
    "    artist2.y = line\n",
    "\n",
    "slider.observe(slider_change, 'value')"
   ]
  },
  {
   "cell_type": "code",
   "execution_count": 51,
   "metadata": {},
   "outputs": [
    {
     "data": {
      "application/vnd.jupyter.widget-view+json": {
       "model_id": "27915f71b0a3478f96126cb5f8133253",
       "version_major": 2,
       "version_minor": 0
      },
      "text/plain": [
       "VBox(children=(HBox(children=(VBox(children=(HBox(children=(HBox(layout=Layout(width='60px')), HTML(value=\"<p …"
      ]
     },
     "metadata": {},
     "output_type": "display_data"
    }
   ],
   "source": [
    "artist1.extent = ((0, vac*2), (0, vac*2))\n",
    "canvas2.y_scale.min = -5\n",
    "canvas2.y_scale.max = 3000\n",
    "\n",
    "canvas1.x_label = 'x [Å]'\n",
    "canvas1.y_label = 'y [Å]'\n",
    "canvas1.title = 'Projected potential' #units: (V*Å)\n",
    "\n",
    "canvas2.x_label = 'x [Å]'\n",
    "canvas2.y_label = 'Electrostatic potential (V)'\n",
    "canvas2.title = 'Radial profile'\n",
    "\n",
    "whitespace = widgets.HBox([])\n",
    "whitespace.layout.height = '30px'\n",
    "\n",
    "slider.style = {'description_width': 'initial'}\n",
    "slider.layout = {'width': '450px'}\n",
    "slider_change()\n",
    "\n",
    "widgets.VBox([widgets.HBox([canvas1.widget, canvas2.widget]),\n",
    "              slider])"
   ]
  },
  {
   "cell_type": "code",
   "execution_count": null,
   "metadata": {},
   "outputs": [],
   "source": [
    "np.max()"
   ]
  }
 ],
 "metadata": {
  "kernelspec": {
   "display_name": "Python 3",
   "language": "python",
   "name": "python3"
  },
  "language_info": {
   "codemirror_mode": {
    "name": "ipython",
    "version": 3
   },
   "file_extension": ".py",
   "mimetype": "text/x-python",
   "name": "python",
   "nbconvert_exporter": "python",
   "pygments_lexer": "ipython3",
   "version": "3.8.5"
  }
 },
 "nbformat": 4,
 "nbformat_minor": 4
}
