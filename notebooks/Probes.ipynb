{
 "cells": [
  {
   "cell_type": "code",
   "execution_count": 15,
   "id": "aaafdbe1-845e-419e-b131-fb1ed674639a",
   "metadata": {},
   "outputs": [
    {
     "data": {
      "text/html": [
       "<style>.container { width:60% !important; }</style>"
      ],
      "text/plain": [
       "<IPython.core.display.HTML object>"
      ]
     },
     "metadata": {},
     "output_type": "display_data"
    }
   ],
   "source": [
    "import ipywidgets as widgets\n",
    "import numpy as np\n",
    "from abtem import Probe\n",
    "from abtem.visualize.interactive.artists import ImageArtist\n",
    "from abtem.visualize.interactive.utils import throttle\n",
    "from abtem.visualize.interactive.canvas import Canvas\n",
    "from abtem.visualize.utils import domain_coloring\n",
    "\n",
    "\n",
    "from IPython.core.display import display, HTML\n",
    "display(HTML(\"<style>.container { width:60% !important; }</style>\"))"
   ]
  },
  {
   "cell_type": "code",
   "execution_count": 16,
   "id": "88b013f2-50cc-447d-b840-71d08ae3fd4f",
   "metadata": {
    "scrolled": false
   },
   "outputs": [
    {
     "data": {
      "application/vnd.jupyter.widget-view+json": {
       "model_id": "31d840e312064cce8478d6352e77af74",
       "version_major": 2,
       "version_minor": 0
      },
      "text/plain": [
       "HBox(children=(VBox(children=(HBox(children=(HBox(layout=Layout(width='50px')), HTML(value=\"<p style='font-siz…"
      ]
     },
     "metadata": {},
     "output_type": "display_data"
    }
   ],
   "source": [
    "canvas1 = Canvas()\n",
    "canvas2 = Canvas()\n",
    "\n",
    "artist1 = ImageArtist(rgb=True)\n",
    "canvas1.artists = {'image': artist1}\n",
    "\n",
    "artist2 = ImageArtist(rgb=True)\n",
    "canvas2.artists = {'image': artist2}\n",
    "\n",
    "probe = Probe(energy=80e3, semiangle_cutoff=30, defocus=0,\n",
    "              Cs=0e4, astigmatism=0, gpts=128, extent=20, rolloff=2)\n",
    "\n",
    "aperture_slider = widgets.FloatSlider(description='Aperture', min=1, max=100, value=30, step=1)\n",
    "energy_slider = widgets.FloatSlider(description='Energy', min=50e3, max=200e3, value=100e3, step=10e3)\n",
    "defocus_slider = widgets.FloatSlider(description='Defocus', min=-200, max=200, value=0, step=10)\n",
    "cs_slider = widgets.FloatSlider(description='Cs', min=-5e5, max=5e5, value=0, step=1e4)\n",
    "\n",
    "color_dropdown = widgets.Dropdown(description='Colormap', options=['Intensity', 'Complex', 'Amplitude', 'Phase', ],\n",
    "                                  value='Intensity')\n",
    "\n",
    "\n",
    "def update(*args):\n",
    "    probe.ctf.semiangle_cutoff = aperture_slider.value\n",
    "    probe.ctf.defocus = defocus_slider.value\n",
    "    probe.ctf.energy = energy_slider.value\n",
    "    probe.ctf.Cs = cs_slider.value\n",
    "\n",
    "    ctf_array = probe.ctf.evaluate_on_grid(probe.gpts[0], probe.extent[0] * 3 / 2)\n",
    "    probe_array = np.fft.fftshift(np.fft.fft2(ctf_array))\n",
    "    ctf_array = np.fft.fftshift(ctf_array)\n",
    "\n",
    "    with artist1._mark.hold_sync():\n",
    "        if color_dropdown.value == 'Intensity':\n",
    "            artist1.image = np.tile((np.abs(ctf_array) ** 2)[..., None], (1, 1, 3))\n",
    "            intensity = np.abs(probe_array) ** 2\n",
    "            artist2.image = np.tile((intensity / intensity.max())[..., None], (1, 1, 3))\n",
    "        elif color_dropdown.value == 'Complex':\n",
    "            artist1.image = domain_coloring(ctf_array)\n",
    "            artist2.image = domain_coloring(probe_array)\n",
    "        elif color_dropdown.value == 'Amplitude':\n",
    "            artist1.image = np.tile((np.abs(ctf_array))[..., None], (1, 1, 3))\n",
    "            intensity = np.abs(probe_array)\n",
    "            artist2.image = np.tile((intensity / intensity.max())[..., None], (1, 1, 3))\n",
    "        elif color_dropdown.value == 'Phase':\n",
    "            artist1.image = domain_coloring(np.exp(1.j * np.angle(ctf_array)), pure_phase=True)\n",
    "            artist2.image = domain_coloring(np.exp(1.j * np.angle(probe_array)), pure_phase=True)\n",
    "\n",
    "        artist1.extent = [[-probe.cutoff_scattering_angles[0], probe.cutoff_scattering_angles[0]]] * 2\n",
    "\n",
    "\n",
    "def reset_button_callback(*args):\n",
    "    with artist1._mark.hold_sync(), artist2._mark.hold_sync():\n",
    "        aperture_slider.value = 30\n",
    "        defocus_slider.value = 0\n",
    "        energy_slider.value = 100e3\n",
    "        cs_slider.value = 0\n",
    "\n",
    "update()\n",
    "\n",
    "artist2.extent = [[0, probe.extent[0]], [0, probe.extent[1]]]\n",
    "\n",
    "update = throttle(.1)(update)\n",
    "aperture_slider.observe(update, 'value')\n",
    "energy_slider.observe(update, 'value')\n",
    "defocus_slider.observe(update, 'value')\n",
    "cs_slider.observe(update, 'value')\n",
    "color_dropdown.observe(update, 'value')\n",
    "\n",
    "canvas1.x_label = 'Scattering angle x [mrad.]'\n",
    "canvas1.y_label = 'Scattering angle y [mrad.]'\n",
    "canvas1.title = 'Fourier space probe'\n",
    "\n",
    "canvas2.x_label = 'x [Å]'\n",
    "canvas2.y_label = 'y [Å]'\n",
    "canvas2.title = 'Real space probe'\n",
    "\n",
    "whitespace = widgets.HBox([])\n",
    "whitespace.layout.height = '30px'\n",
    "\n",
    "reset_button = widgets.Button(description='Reset')\n",
    "\n",
    "reset_button.on_click(reset_button_callback)\n",
    "\n",
    "widgets.HBox([canvas1.widget, canvas2.widget,\n",
    "              widgets.VBox([whitespace,\n",
    "                            color_dropdown,\n",
    "                            aperture_slider,\n",
    "                            energy_slider,\n",
    "                            defocus_slider,\n",
    "                            cs_slider,\n",
    "                            reset_button])])"
   ]
  }
 ],
 "metadata": {
  "kernelspec": {
   "display_name": "abTEM_interactive",
   "language": "python",
   "name": "abtem_interactive"
  },
  "language_info": {
   "codemirror_mode": {
    "name": "ipython",
    "version": 3
   },
   "file_extension": ".py",
   "mimetype": "text/x-python",
   "name": "python",
   "nbconvert_exporter": "python",
   "pygments_lexer": "ipython3",
   "version": "3.8.8"
  }
 },
 "nbformat": 4,
 "nbformat_minor": 5
}
